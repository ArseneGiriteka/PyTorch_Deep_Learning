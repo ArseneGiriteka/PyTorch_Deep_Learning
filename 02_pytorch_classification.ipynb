{
  "nbformat": 4,
  "nbformat_minor": 0,
  "metadata": {
    "colab": {
      "provenance": [],
      "gpuType": "T4",
      "authorship_tag": "ABX9TyNqehg//efpwiBPykNpkRYV",
      "include_colab_link": true
    },
    "kernelspec": {
      "name": "python3",
      "display_name": "Python 3"
    },
    "language_info": {
      "name": "python"
    },
    "accelerator": "GPU"
  },
  "cells": [
    {
      "cell_type": "markdown",
      "metadata": {
        "id": "view-in-github",
        "colab_type": "text"
      },
      "source": [
        "<a href=\"https://colab.research.google.com/github/ArseneGiriteka/PyTorch_Deep_Learning/blob/main/02_pytorch_classification.ipynb\" target=\"_parent\"><img src=\"https://colab.research.google.com/assets/colab-badge.svg\" alt=\"Open In Colab\"/></a>"
      ]
    },
    {
      "cell_type": "markdown",
      "source": [
        "# 02. Neural Network classification with PyTorch\n",
        "Classification is a problem of predicting whether something is one thing or another there can be multiple things as the options)."
      ],
      "metadata": {
        "id": "JhYMG-ypzp6Y"
      }
    },
    {
      "cell_type": "markdown",
      "source": [
        "  ## 1. Make classification data and get it ready"
      ],
      "metadata": {
        "id": "HkNWWouQ00E8"
      }
    },
    {
      "cell_type": "code",
      "execution_count": null,
      "metadata": {
        "id": "zEggmg8UzU48"
      },
      "outputs": [],
      "source": [
        "import sklearn"
      ]
    },
    {
      "cell_type": "code",
      "source": [
        "from sklearn.datasets import make_circles\n",
        "\n",
        "# Make 1000 samples\n",
        "n_samples = 1000\n",
        "\n",
        "# Create circles\n",
        "x, y = make_circles(n_samples, noise=0.03, random_state=42)"
      ],
      "metadata": {
        "id": "ALccyEFA0xCZ"
      },
      "execution_count": null,
      "outputs": []
    },
    {
      "cell_type": "code",
      "source": [
        "len(x), len(y)"
      ],
      "metadata": {
        "colab": {
          "base_uri": "https://localhost:8080/"
        },
        "id": "QCDJf0zb13F6",
        "outputId": "0ef9083d-12a4-497b-b917-a06ed7d234fb"
      },
      "execution_count": null,
      "outputs": [
        {
          "output_type": "execute_result",
          "data": {
            "text/plain": [
              "(1000, 1000)"
            ]
          },
          "metadata": {},
          "execution_count": 3
        }
      ]
    },
    {
      "cell_type": "code",
      "source": [
        "print(f\"First 5 samples of x: {x[:5]}\")\n",
        "print(f\"First 5 samples of Y: {y[:5]}\")"
      ],
      "metadata": {
        "colab": {
          "base_uri": "https://localhost:8080/"
        },
        "id": "nm9Uj6Dh2MYO",
        "outputId": "b5e27418-8ff9-45c4-d9d2-357df2c7b064"
      },
      "execution_count": null,
      "outputs": [
        {
          "output_type": "stream",
          "name": "stdout",
          "text": [
            "First 5 samples of x: [[ 0.75424625  0.23148074]\n",
            " [-0.75615888  0.15325888]\n",
            " [-0.81539193  0.17328203]\n",
            " [-0.39373073  0.69288277]\n",
            " [ 0.44220765 -0.89672343]]\n",
            "First 5 samples of Y: [1 1 1 1 0]\n"
          ]
        }
      ]
    },
    {
      "cell_type": "code",
      "source": [
        "# Make a dataframe of circle data\n",
        "import pandas as pd\n",
        "\n",
        "circles = pd.DataFrame({\"X1\": x[:, 0], \"X2\": x[:, 1], \"label\": y})\n",
        "\n",
        "circles.head(20)"
      ],
      "metadata": {
        "colab": {
          "base_uri": "https://localhost:8080/",
          "height": 677
        },
        "id": "_iB-0DOI36AG",
        "outputId": "88b2e19a-b57f-45f0-de89-231b0701fad0"
      },
      "execution_count": null,
      "outputs": [
        {
          "output_type": "execute_result",
          "data": {
            "text/plain": [
              "          X1        X2  label\n",
              "0   0.754246  0.231481      1\n",
              "1  -0.756159  0.153259      1\n",
              "2  -0.815392  0.173282      1\n",
              "3  -0.393731  0.692883      1\n",
              "4   0.442208 -0.896723      0\n",
              "5  -0.479646  0.676435      1\n",
              "6  -0.013648  0.803349      1\n",
              "7   0.771513  0.147760      1\n",
              "8  -0.169322 -0.793456      1\n",
              "9  -0.121486  1.021509      0\n",
              "10 -0.642490 -0.544099      1\n",
              "11  0.569467  0.844768      0\n",
              "12 -0.117736  0.831401      1\n",
              "13  0.734100 -0.333166      1\n",
              "14  0.600776 -0.587426      1\n",
              "15  0.190226 -0.763410      1\n",
              "16 -0.936952 -0.343431      0\n",
              "17  0.107062 -0.793092      1\n",
              "18 -0.818914 -0.101624      1\n",
              "19 -0.642100 -0.745374      0"
            ],
            "text/html": [
              "\n",
              "  <div id=\"df-4bde52ec-18e9-49a2-9d5e-82fb197d405c\" class=\"colab-df-container\">\n",
              "    <div>\n",
              "<style scoped>\n",
              "    .dataframe tbody tr th:only-of-type {\n",
              "        vertical-align: middle;\n",
              "    }\n",
              "\n",
              "    .dataframe tbody tr th {\n",
              "        vertical-align: top;\n",
              "    }\n",
              "\n",
              "    .dataframe thead th {\n",
              "        text-align: right;\n",
              "    }\n",
              "</style>\n",
              "<table border=\"1\" class=\"dataframe\">\n",
              "  <thead>\n",
              "    <tr style=\"text-align: right;\">\n",
              "      <th></th>\n",
              "      <th>X1</th>\n",
              "      <th>X2</th>\n",
              "      <th>label</th>\n",
              "    </tr>\n",
              "  </thead>\n",
              "  <tbody>\n",
              "    <tr>\n",
              "      <th>0</th>\n",
              "      <td>0.754246</td>\n",
              "      <td>0.231481</td>\n",
              "      <td>1</td>\n",
              "    </tr>\n",
              "    <tr>\n",
              "      <th>1</th>\n",
              "      <td>-0.756159</td>\n",
              "      <td>0.153259</td>\n",
              "      <td>1</td>\n",
              "    </tr>\n",
              "    <tr>\n",
              "      <th>2</th>\n",
              "      <td>-0.815392</td>\n",
              "      <td>0.173282</td>\n",
              "      <td>1</td>\n",
              "    </tr>\n",
              "    <tr>\n",
              "      <th>3</th>\n",
              "      <td>-0.393731</td>\n",
              "      <td>0.692883</td>\n",
              "      <td>1</td>\n",
              "    </tr>\n",
              "    <tr>\n",
              "      <th>4</th>\n",
              "      <td>0.442208</td>\n",
              "      <td>-0.896723</td>\n",
              "      <td>0</td>\n",
              "    </tr>\n",
              "    <tr>\n",
              "      <th>5</th>\n",
              "      <td>-0.479646</td>\n",
              "      <td>0.676435</td>\n",
              "      <td>1</td>\n",
              "    </tr>\n",
              "    <tr>\n",
              "      <th>6</th>\n",
              "      <td>-0.013648</td>\n",
              "      <td>0.803349</td>\n",
              "      <td>1</td>\n",
              "    </tr>\n",
              "    <tr>\n",
              "      <th>7</th>\n",
              "      <td>0.771513</td>\n",
              "      <td>0.147760</td>\n",
              "      <td>1</td>\n",
              "    </tr>\n",
              "    <tr>\n",
              "      <th>8</th>\n",
              "      <td>-0.169322</td>\n",
              "      <td>-0.793456</td>\n",
              "      <td>1</td>\n",
              "    </tr>\n",
              "    <tr>\n",
              "      <th>9</th>\n",
              "      <td>-0.121486</td>\n",
              "      <td>1.021509</td>\n",
              "      <td>0</td>\n",
              "    </tr>\n",
              "    <tr>\n",
              "      <th>10</th>\n",
              "      <td>-0.642490</td>\n",
              "      <td>-0.544099</td>\n",
              "      <td>1</td>\n",
              "    </tr>\n",
              "    <tr>\n",
              "      <th>11</th>\n",
              "      <td>0.569467</td>\n",
              "      <td>0.844768</td>\n",
              "      <td>0</td>\n",
              "    </tr>\n",
              "    <tr>\n",
              "      <th>12</th>\n",
              "      <td>-0.117736</td>\n",
              "      <td>0.831401</td>\n",
              "      <td>1</td>\n",
              "    </tr>\n",
              "    <tr>\n",
              "      <th>13</th>\n",
              "      <td>0.734100</td>\n",
              "      <td>-0.333166</td>\n",
              "      <td>1</td>\n",
              "    </tr>\n",
              "    <tr>\n",
              "      <th>14</th>\n",
              "      <td>0.600776</td>\n",
              "      <td>-0.587426</td>\n",
              "      <td>1</td>\n",
              "    </tr>\n",
              "    <tr>\n",
              "      <th>15</th>\n",
              "      <td>0.190226</td>\n",
              "      <td>-0.763410</td>\n",
              "      <td>1</td>\n",
              "    </tr>\n",
              "    <tr>\n",
              "      <th>16</th>\n",
              "      <td>-0.936952</td>\n",
              "      <td>-0.343431</td>\n",
              "      <td>0</td>\n",
              "    </tr>\n",
              "    <tr>\n",
              "      <th>17</th>\n",
              "      <td>0.107062</td>\n",
              "      <td>-0.793092</td>\n",
              "      <td>1</td>\n",
              "    </tr>\n",
              "    <tr>\n",
              "      <th>18</th>\n",
              "      <td>-0.818914</td>\n",
              "      <td>-0.101624</td>\n",
              "      <td>1</td>\n",
              "    </tr>\n",
              "    <tr>\n",
              "      <th>19</th>\n",
              "      <td>-0.642100</td>\n",
              "      <td>-0.745374</td>\n",
              "      <td>0</td>\n",
              "    </tr>\n",
              "  </tbody>\n",
              "</table>\n",
              "</div>\n",
              "    <div class=\"colab-df-buttons\">\n",
              "\n",
              "  <div class=\"colab-df-container\">\n",
              "    <button class=\"colab-df-convert\" onclick=\"convertToInteractive('df-4bde52ec-18e9-49a2-9d5e-82fb197d405c')\"\n",
              "            title=\"Convert this dataframe to an interactive table.\"\n",
              "            style=\"display:none;\">\n",
              "\n",
              "  <svg xmlns=\"http://www.w3.org/2000/svg\" height=\"24px\" viewBox=\"0 -960 960 960\">\n",
              "    <path d=\"M120-120v-720h720v720H120Zm60-500h600v-160H180v160Zm220 220h160v-160H400v160Zm0 220h160v-160H400v160ZM180-400h160v-160H180v160Zm440 0h160v-160H620v160ZM180-180h160v-160H180v160Zm440 0h160v-160H620v160Z\"/>\n",
              "  </svg>\n",
              "    </button>\n",
              "\n",
              "  <style>\n",
              "    .colab-df-container {\n",
              "      display:flex;\n",
              "      gap: 12px;\n",
              "    }\n",
              "\n",
              "    .colab-df-convert {\n",
              "      background-color: #E8F0FE;\n",
              "      border: none;\n",
              "      border-radius: 50%;\n",
              "      cursor: pointer;\n",
              "      display: none;\n",
              "      fill: #1967D2;\n",
              "      height: 32px;\n",
              "      padding: 0 0 0 0;\n",
              "      width: 32px;\n",
              "    }\n",
              "\n",
              "    .colab-df-convert:hover {\n",
              "      background-color: #E2EBFA;\n",
              "      box-shadow: 0px 1px 2px rgba(60, 64, 67, 0.3), 0px 1px 3px 1px rgba(60, 64, 67, 0.15);\n",
              "      fill: #174EA6;\n",
              "    }\n",
              "\n",
              "    .colab-df-buttons div {\n",
              "      margin-bottom: 4px;\n",
              "    }\n",
              "\n",
              "    [theme=dark] .colab-df-convert {\n",
              "      background-color: #3B4455;\n",
              "      fill: #D2E3FC;\n",
              "    }\n",
              "\n",
              "    [theme=dark] .colab-df-convert:hover {\n",
              "      background-color: #434B5C;\n",
              "      box-shadow: 0px 1px 3px 1px rgba(0, 0, 0, 0.15);\n",
              "      filter: drop-shadow(0px 1px 2px rgba(0, 0, 0, 0.3));\n",
              "      fill: #FFFFFF;\n",
              "    }\n",
              "  </style>\n",
              "\n",
              "    <script>\n",
              "      const buttonEl =\n",
              "        document.querySelector('#df-4bde52ec-18e9-49a2-9d5e-82fb197d405c button.colab-df-convert');\n",
              "      buttonEl.style.display =\n",
              "        google.colab.kernel.accessAllowed ? 'block' : 'none';\n",
              "\n",
              "      async function convertToInteractive(key) {\n",
              "        const element = document.querySelector('#df-4bde52ec-18e9-49a2-9d5e-82fb197d405c');\n",
              "        const dataTable =\n",
              "          await google.colab.kernel.invokeFunction('convertToInteractive',\n",
              "                                                    [key], {});\n",
              "        if (!dataTable) return;\n",
              "\n",
              "        const docLinkHtml = 'Like what you see? Visit the ' +\n",
              "          '<a target=\"_blank\" href=https://colab.research.google.com/notebooks/data_table.ipynb>data table notebook</a>'\n",
              "          + ' to learn more about interactive tables.';\n",
              "        element.innerHTML = '';\n",
              "        dataTable['output_type'] = 'display_data';\n",
              "        await google.colab.output.renderOutput(dataTable, element);\n",
              "        const docLink = document.createElement('div');\n",
              "        docLink.innerHTML = docLinkHtml;\n",
              "        element.appendChild(docLink);\n",
              "      }\n",
              "    </script>\n",
              "  </div>\n",
              "\n",
              "\n",
              "<div id=\"df-c08147a6-4ca9-4248-ab33-a6990bf73aca\">\n",
              "  <button class=\"colab-df-quickchart\" onclick=\"quickchart('df-c08147a6-4ca9-4248-ab33-a6990bf73aca')\"\n",
              "            title=\"Suggest charts\"\n",
              "            style=\"display:none;\">\n",
              "\n",
              "<svg xmlns=\"http://www.w3.org/2000/svg\" height=\"24px\"viewBox=\"0 0 24 24\"\n",
              "     width=\"24px\">\n",
              "    <g>\n",
              "        <path d=\"M19 3H5c-1.1 0-2 .9-2 2v14c0 1.1.9 2 2 2h14c1.1 0 2-.9 2-2V5c0-1.1-.9-2-2-2zM9 17H7v-7h2v7zm4 0h-2V7h2v10zm4 0h-2v-4h2v4z\"/>\n",
              "    </g>\n",
              "</svg>\n",
              "  </button>\n",
              "\n",
              "<style>\n",
              "  .colab-df-quickchart {\n",
              "      --bg-color: #E8F0FE;\n",
              "      --fill-color: #1967D2;\n",
              "      --hover-bg-color: #E2EBFA;\n",
              "      --hover-fill-color: #174EA6;\n",
              "      --disabled-fill-color: #AAA;\n",
              "      --disabled-bg-color: #DDD;\n",
              "  }\n",
              "\n",
              "  [theme=dark] .colab-df-quickchart {\n",
              "      --bg-color: #3B4455;\n",
              "      --fill-color: #D2E3FC;\n",
              "      --hover-bg-color: #434B5C;\n",
              "      --hover-fill-color: #FFFFFF;\n",
              "      --disabled-bg-color: #3B4455;\n",
              "      --disabled-fill-color: #666;\n",
              "  }\n",
              "\n",
              "  .colab-df-quickchart {\n",
              "    background-color: var(--bg-color);\n",
              "    border: none;\n",
              "    border-radius: 50%;\n",
              "    cursor: pointer;\n",
              "    display: none;\n",
              "    fill: var(--fill-color);\n",
              "    height: 32px;\n",
              "    padding: 0;\n",
              "    width: 32px;\n",
              "  }\n",
              "\n",
              "  .colab-df-quickchart:hover {\n",
              "    background-color: var(--hover-bg-color);\n",
              "    box-shadow: 0 1px 2px rgba(60, 64, 67, 0.3), 0 1px 3px 1px rgba(60, 64, 67, 0.15);\n",
              "    fill: var(--button-hover-fill-color);\n",
              "  }\n",
              "\n",
              "  .colab-df-quickchart-complete:disabled,\n",
              "  .colab-df-quickchart-complete:disabled:hover {\n",
              "    background-color: var(--disabled-bg-color);\n",
              "    fill: var(--disabled-fill-color);\n",
              "    box-shadow: none;\n",
              "  }\n",
              "\n",
              "  .colab-df-spinner {\n",
              "    border: 2px solid var(--fill-color);\n",
              "    border-color: transparent;\n",
              "    border-bottom-color: var(--fill-color);\n",
              "    animation:\n",
              "      spin 1s steps(1) infinite;\n",
              "  }\n",
              "\n",
              "  @keyframes spin {\n",
              "    0% {\n",
              "      border-color: transparent;\n",
              "      border-bottom-color: var(--fill-color);\n",
              "      border-left-color: var(--fill-color);\n",
              "    }\n",
              "    20% {\n",
              "      border-color: transparent;\n",
              "      border-left-color: var(--fill-color);\n",
              "      border-top-color: var(--fill-color);\n",
              "    }\n",
              "    30% {\n",
              "      border-color: transparent;\n",
              "      border-left-color: var(--fill-color);\n",
              "      border-top-color: var(--fill-color);\n",
              "      border-right-color: var(--fill-color);\n",
              "    }\n",
              "    40% {\n",
              "      border-color: transparent;\n",
              "      border-right-color: var(--fill-color);\n",
              "      border-top-color: var(--fill-color);\n",
              "    }\n",
              "    60% {\n",
              "      border-color: transparent;\n",
              "      border-right-color: var(--fill-color);\n",
              "    }\n",
              "    80% {\n",
              "      border-color: transparent;\n",
              "      border-right-color: var(--fill-color);\n",
              "      border-bottom-color: var(--fill-color);\n",
              "    }\n",
              "    90% {\n",
              "      border-color: transparent;\n",
              "      border-bottom-color: var(--fill-color);\n",
              "    }\n",
              "  }\n",
              "</style>\n",
              "\n",
              "  <script>\n",
              "    async function quickchart(key) {\n",
              "      const quickchartButtonEl =\n",
              "        document.querySelector('#' + key + ' button');\n",
              "      quickchartButtonEl.disabled = true;  // To prevent multiple clicks.\n",
              "      quickchartButtonEl.classList.add('colab-df-spinner');\n",
              "      try {\n",
              "        const charts = await google.colab.kernel.invokeFunction(\n",
              "            'suggestCharts', [key], {});\n",
              "      } catch (error) {\n",
              "        console.error('Error during call to suggestCharts:', error);\n",
              "      }\n",
              "      quickchartButtonEl.classList.remove('colab-df-spinner');\n",
              "      quickchartButtonEl.classList.add('colab-df-quickchart-complete');\n",
              "    }\n",
              "    (() => {\n",
              "      let quickchartButtonEl =\n",
              "        document.querySelector('#df-c08147a6-4ca9-4248-ab33-a6990bf73aca button');\n",
              "      quickchartButtonEl.style.display =\n",
              "        google.colab.kernel.accessAllowed ? 'block' : 'none';\n",
              "    })();\n",
              "  </script>\n",
              "</div>\n",
              "\n",
              "    </div>\n",
              "  </div>\n"
            ],
            "application/vnd.google.colaboratory.intrinsic+json": {
              "type": "dataframe",
              "variable_name": "circles",
              "summary": "{\n  \"name\": \"circles\",\n  \"rows\": 1000,\n  \"fields\": [\n    {\n      \"column\": \"X1\",\n      \"properties\": {\n        \"dtype\": \"number\",\n        \"std\": 0.6398365674574611,\n        \"min\": -1.0595024599098635,\n        \"max\": 1.0337117525463373,\n        \"num_unique_values\": 1000,\n        \"samples\": [\n          -0.3751930206933384,\n          0.015380346701456493,\n          -0.7027835978832848\n        ],\n        \"semantic_type\": \"\",\n        \"description\": \"\"\n      }\n    },\n    {\n      \"column\": \"X2\",\n      \"properties\": {\n        \"dtype\": \"number\",\n        \"std\": 0.6411559581015379,\n        \"min\": -1.0677683182718436,\n        \"max\": 1.0360036756154805,\n        \"num_unique_values\": 1000,\n        \"samples\": [\n          0.6826597225888621,\n          0.9600260220697324,\n          -0.3147169925147762\n        ],\n        \"semantic_type\": \"\",\n        \"description\": \"\"\n      }\n    },\n    {\n      \"column\": \"label\",\n      \"properties\": {\n        \"dtype\": \"number\",\n        \"std\": 0,\n        \"min\": 0,\n        \"max\": 1,\n        \"num_unique_values\": 2,\n        \"samples\": [\n          0,\n          1\n        ],\n        \"semantic_type\": \"\",\n        \"description\": \"\"\n      }\n    }\n  ]\n}"
            }
          },
          "metadata": {},
          "execution_count": 5
        }
      ]
    },
    {
      "cell_type": "code",
      "source": [
        "import matplotlib.pyplot as plt\n",
        "\n",
        "# Plot the circles\n",
        "plt.scatter(x[:, 0], x[:, 1], c=y, cmap=plt.cm.Paired, edgecolors=\"k\")\n",
        "plt.xlabel(\"Feature 1\")\n",
        "plt.ylabel(\"Feature 2\")\n",
        "plt.title(\"Make Circles Dataset\")\n",
        "plt.show()"
      ],
      "metadata": {
        "colab": {
          "base_uri": "https://localhost:8080/",
          "height": 472
        },
        "id": "lO-zCu5B6R8a",
        "outputId": "facad965-c853-48f8-eef9-b10fe4ad8e75"
      },
      "execution_count": null,
      "outputs": [
        {
          "output_type": "display_data",
          "data": {
            "text/plain": [
              "<Figure size 640x480 with 1 Axes>"
            ],
            "image/png": "[encoded data removed]"
          },
          "metadata": {}
        }
      ]
    },
    {
      "cell_type": "markdown",
      "source": [
        " **Note**: The data we ara working with is often reffered to as a toy dataset, a dataset that is small enough to experiment but still sizeable enough to practice the fundamentals."
      ],
      "metadata": {
        "id": "7fId9_eE9GIz"
      }
    },
    {
      "cell_type": "markdown",
      "source": [
        "### 1.1 Checking input and output shapes"
      ],
      "metadata": {
        "id": "zJUZ8c97-MYg"
      }
    },
    {
      "cell_type": "code",
      "source": [
        "x.shape, y.shape"
      ],
      "metadata": {
        "colab": {
          "base_uri": "https://localhost:8080/"
        },
        "id": "zAkDbB0R-MDQ",
        "outputId": "44d084fa-7599-4830-9aee-47113e9f6b34"
      },
      "execution_count": null,
      "outputs": [
        {
          "output_type": "execute_result",
          "data": {
            "text/plain": [
              "((1000, 2), (1000,))"
            ]
          },
          "metadata": {},
          "execution_count": 7
        }
      ]
    },
    {
      "cell_type": "code",
      "source": [
        "# View the first expamle of features and labels\n",
        "x_sample = x[0]\n",
        "y_sample = y[0]\n",
        "\n",
        "print(f\"Values for onr sample of x: {x_sample} and the same for y: {y_sample}\")\n",
        "print(f\"Shapes for onr sample of x: {x_sample.shape} and the same for y: {y_sample.shape}\")"
      ],
      "metadata": {
        "colab": {
          "base_uri": "https://localhost:8080/"
        },
        "id": "Udgd40KM-jbY",
        "outputId": "3e085b6b-1cc6-4a87-889f-abfa814ebc1e"
      },
      "execution_count": null,
      "outputs": [
        {
          "output_type": "stream",
          "name": "stdout",
          "text": [
            "Values for onr sample of x: [0.75424625 0.23148074] and the same for y: 1\n",
            "Shapes for onr sample of x: (2,) and the same for y: ()\n"
          ]
        }
      ]
    },
    {
      "cell_type": "markdown",
      "source": [
        "### 1.2 Turn data into tensors and create train and test splits"
      ],
      "metadata": {
        "id": "_pm-_oe0_nby"
      }
    },
    {
      "cell_type": "code",
      "source": [
        "import torch\n",
        "torch.__version__"
      ],
      "metadata": {
        "colab": {
          "base_uri": "https://localhost:8080/",
          "height": 35
        },
        "id": "S2BBKJ7D_139",
        "outputId": "b25dbc1b-0aa2-4890-e935-fa0afb2b6a23"
      },
      "execution_count": null,
      "outputs": [
        {
          "output_type": "execute_result",
          "data": {
            "text/plain": [
              "'2.6.0+cu124'"
            ],
            "application/vnd.google.colaboratory.intrinsic+json": {
              "type": "string"
            }
          },
          "metadata": {},
          "execution_count": 9
        }
      ]
    },
    {
      "cell_type": "code",
      "source": [
        "# Turn data into tensors\n",
        "X = torch.from_numpy(x).type(torch.float)\n",
        "Y = torch.from_numpy(y).type(torch.float)\n",
        "\n",
        "X[:5], Y[:5]"
      ],
      "metadata": {
        "colab": {
          "base_uri": "https://localhost:8080/"
        },
        "id": "OwgcBi8eArSu",
        "outputId": "4d083671-b7af-4fe3-a02e-182e091df51f"
      },
      "execution_count": null,
      "outputs": [
        {
          "output_type": "execute_result",
          "data": {
            "text/plain": [
              "(tensor([[ 0.7542,  0.2315],\n",
              "         [-0.7562,  0.1533],\n",
              "         [-0.8154,  0.1733],\n",
              "         [-0.3937,  0.6929],\n",
              "         [ 0.4422, -0.8967]]),\n",
              " tensor([1., 1., 1., 1., 0.]))"
            ]
          },
          "metadata": {},
          "execution_count": 10
        }
      ]
    },
    {
      "cell_type": "code",
      "source": [
        "type(X), type(Y), X.dtype, Y.dtype"
      ],
      "metadata": {
        "colab": {
          "base_uri": "https://localhost:8080/"
        },
        "id": "44qYfJRtBJ06",
        "outputId": "22a0234f-dabc-4d2e-9a58-26abada3e593"
      },
      "execution_count": null,
      "outputs": [
        {
          "output_type": "execute_result",
          "data": {
            "text/plain": [
              "(torch.Tensor, torch.Tensor, torch.float32, torch.float32)"
            ]
          },
          "metadata": {},
          "execution_count": 11
        }
      ]
    },
    {
      "cell_type": "code",
      "source": [
        "# Split data into training and testing sets\n",
        "from sklearn.model_selection import train_test_split\n",
        "\n",
        "X_train, X_test, Y_train, Y_test = train_test_split(X, Y, test_size=0.2, random_state=42)"
      ],
      "metadata": {
        "id": "_2dFkjkIBdZo"
      },
      "execution_count": null,
      "outputs": []
    },
    {
      "cell_type": "code",
      "source": [
        "len(X_train), len(X_test), len(Y_train), len(Y_test)"
      ],
      "metadata": {
        "colab": {
          "base_uri": "https://localhost:8080/"
        },
        "id": "imNeJbfQDH5l",
        "outputId": "e378fb11-6000-428c-f0aa-3f7cedb69597"
      },
      "execution_count": null,
      "outputs": [
        {
          "output_type": "execute_result",
          "data": {
            "text/plain": [
              "(800, 200, 800, 200)"
            ]
          },
          "metadata": {},
          "execution_count": 13
        }
      ]
    },
    {
      "cell_type": "markdown",
      "source": [
        "## 2. Building a model\n",
        "\n",
        "Let's build a model to classify our blue and red dots.\n",
        "\n",
        "To do so, we want to:\n",
        "1. Setup device agnostic code so our code will run on an accelerator (GPU) if there is one\n",
        "2. Construct a model (by subclassing nn.Module)\n",
        "3. Define a loss function and an optimizer\n",
        "4. Create a training and test loop"
      ],
      "metadata": {
        "id": "HtZ_W5yLEIPh"
      }
    },
    {
      "cell_type": "code",
      "source": [
        "import torch\n",
        "from torch import nn\n",
        "\n",
        "# Make device agnostic code\n",
        "device = \"cuda\" if torch.cuda.is_available() else \"cpu\"\n",
        "device"
      ],
      "metadata": {
        "colab": {
          "base_uri": "https://localhost:8080/",
          "height": 35
        },
        "id": "VkOIzvBHDVoY",
        "outputId": "5625f687-90ef-46fc-941d-731225bcda24"
      },
      "execution_count": null,
      "outputs": [
        {
          "output_type": "execute_result",
          "data": {
            "text/plain": [
              "'cpu'"
            ],
            "application/vnd.google.colaboratory.intrinsic+json": {
              "type": "string"
            }
          },
          "metadata": {},
          "execution_count": 14
        }
      ]
    },
    {
      "cell_type": "markdown",
      "source": [
        "Let's create a model that:\n",
        "1. Subclasses `nn.Module` (almost all models in PyTorch subclass `nn.Module`).\n",
        "2. Creates 2 `nn.Linear()` layers that are cable of handling the shapes of our data.\n",
        "3. Defines a `forward()` method that outlines the forward pass (or forward computation) of the model.\n",
        "4. Instatiate an instance of our model class and send it to target `device`."
      ],
      "metadata": {
        "id": "ylO0yMFDGQQ-"
      }
    },
    {
      "cell_type": "code",
      "source": [
        "# 1. Make a model that subclasses nn.Module\n",
        "class CircleModelV0(nn.Module):\n",
        "  def __init__(self, *args, **kwargs) -> None:\n",
        "    super().__init__(*args, **kwargs)\n",
        "\n",
        "    # 2. Create two nn.Linear layers capable of handling the shapes of our data\n",
        "    self.layer_1 = nn.Linear(in_features=2, out_features=5) # takes in 2 features and output 5\n",
        "    self.layer_2 = nn.Linear(in_features=5, out_features=1) # takes in 5 features and output only 1 feature\n",
        "\n",
        "  # 3. Define a forward() method that outlines the forward pass\n",
        "  def forward(self, x) -> int:\n",
        "    return self.layer_2(self.layer_1(x)) # x -> layer_1 -> layer_2 ===> output\n",
        "\n",
        "# 4. Let's instatiate an instance of our model class and send it to target device\n",
        "model_0 = CircleModelV0().to(device)\n",
        "model_0"
      ],
      "metadata": {
        "colab": {
          "base_uri": "https://localhost:8080/"
        },
        "id": "2fb-6fSgH9Y1",
        "outputId": "575addc4-baf6-466d-fa1b-195c0895f730"
      },
      "execution_count": null,
      "outputs": [
        {
          "output_type": "execute_result",
          "data": {
            "text/plain": [
              "CircleModelV0(\n",
              "  (layer_1): Linear(in_features=2, out_features=5, bias=True)\n",
              "  (layer_2): Linear(in_features=5, out_features=1, bias=True)\n",
              ")"
            ]
          },
          "metadata": {},
          "execution_count": 15
        }
      ]
    },
    {
      "cell_type": "code",
      "source": [
        "device, next(model_0.parameters()).device"
      ],
      "metadata": {
        "colab": {
          "base_uri": "https://localhost:8080/"
        },
        "id": "MgbcDsZsMADk",
        "outputId": "aa484b47-0f61-4371-c1e9-59bdb55302a9"
      },
      "execution_count": null,
      "outputs": [
        {
          "output_type": "execute_result",
          "data": {
            "text/plain": [
              "('cpu', device(type='cpu'))"
            ]
          },
          "metadata": {},
          "execution_count": 16
        }
      ]
    },
    {
      "cell_type": "code",
      "source": [
        "# Let's replicate model_0 just above\n",
        "model_0 = nn.Sequential(\n",
        "    nn.Linear(in_features=2, out_features=5),\n",
        "    nn.Linear(in_features=5, out_features=1)\n",
        ").to(device)\n",
        "\n",
        "model_0"
      ],
      "metadata": {
        "colab": {
          "base_uri": "https://localhost:8080/"
        },
        "id": "PxgTpP2sML2t",
        "outputId": "07b9f3c4-b6a7-4e53-a9b2-084f1a2fd588"
      },
      "execution_count": null,
      "outputs": [
        {
          "output_type": "execute_result",
          "data": {
            "text/plain": [
              "Sequential(\n",
              "  (0): Linear(in_features=2, out_features=5, bias=True)\n",
              "  (1): Linear(in_features=5, out_features=1, bias=True)\n",
              ")"
            ]
          },
          "metadata": {},
          "execution_count": 17
        }
      ]
    },
    {
      "cell_type": "code",
      "source": [
        "model_0.state_dict()"
      ],
      "metadata": {
        "colab": {
          "base_uri": "https://localhost:8080/"
        },
        "id": "Fv3SUNJNkZqQ",
        "outputId": "a2a40100-e030-4bce-bbe8-f3da91837b82"
      },
      "execution_count": null,
      "outputs": [
        {
          "output_type": "execute_result",
          "data": {
            "text/plain": [
              "OrderedDict([('0.weight',\n",
              "              tensor([[-0.4938, -0.0527],\n",
              "                      [-0.5627, -0.4131],\n",
              "                      [-0.6477,  0.4675],\n",
              "                      [-0.6362,  0.4259],\n",
              "                      [ 0.4289,  0.3120]])),\n",
              "             ('0.bias', tensor([ 0.4408,  0.6216, -0.0798,  0.5348, -0.4818])),\n",
              "             ('1.weight',\n",
              "              tensor([[-0.2507, -0.3013, -0.0636, -0.3504, -0.0528]])),\n",
              "             ('1.bias', tensor([0.0021]))])"
            ]
          },
          "metadata": {},
          "execution_count": 18
        }
      ]
    },
    {
      "cell_type": "code",
      "source": [
        "# Let's make predictions\n",
        "with torch.inference_mode():\n",
        "  untrained_preds = model_0(X_test.to(device))\n",
        "print(f\"Length of predictions: {len(untrained_preds)}, Shape: {untrained_preds.shape}\")\n",
        "print(f\"Length of test samples: {len(X_test)}, shape: {X_test.shape}\")\n",
        "print(f\"\\nFirst 20 predictions:\\n{untrained_preds[:20]}\")\n",
        "print(f\"\\nFirst 20  labels:\\n{Y_test[:20]}\")"
      ],
      "metadata": {
        "colab": {
          "base_uri": "https://localhost:8080/"
        },
        "id": "UWzvA7vrlWB3",
        "outputId": "649a23fe-0b23-4c26-9709-2f4882e400dc"
      },
      "execution_count": null,
      "outputs": [
        {
          "output_type": "stream",
          "name": "stdout",
          "text": [
            "Length of predictions: 200, Shape: torch.Size([200, 1])\n",
            "Length of test samples: 200, shape: torch.Size([200, 2])\n",
            "\n",
            "First 20 predictions:\n",
            "tensor([[-0.6926],\n",
            "        [-0.4998],\n",
            "        [-0.8102],\n",
            "        [-0.6609],\n",
            "        [-0.1944],\n",
            "        [-0.0814],\n",
            "        [-0.0265],\n",
            "        [ 0.0730],\n",
            "        [-0.8360],\n",
            "        [-0.4800],\n",
            "        [-0.7495],\n",
            "        [-0.6104],\n",
            "        [ 0.0451],\n",
            "        [-0.7320],\n",
            "        [-0.9258],\n",
            "        [-0.0371],\n",
            "        [-0.2866],\n",
            "        [-0.8594],\n",
            "        [-0.7925],\n",
            "        [-0.9248]])\n",
            "\n",
            "First 20  labels:\n",
            "tensor([1., 0., 1., 0., 1., 1., 0., 0., 1., 0., 0., 1., 0., 1., 0., 1., 1., 0.,\n",
            "        1., 0.])\n"
          ]
        }
      ]
    },
    {
      "cell_type": "markdown",
      "source": [
        "### 2.1 Setup loss function and optimizer\n",
        "\n",
        "Which loss function or optimizer should you use?\n",
        "\n",
        "Again... this is problem specific.\n",
        "\n",
        "- For Example for regression you might want MAE or MSE (mean absolute error or mean squared error).\n",
        "\n",
        "- For classification you might want to use cross entropy or categorical cross entropy(cross entropy)\n",
        "\n",
        "- For the loss function we are going to use `torch.nn.BCEWithLogitsLoss()`.\n",
        "\n",
        "- `nn.BCELoss()` requires inputs to have gone through the sigmoid activation function prior to input to BCELoss\n",
        "- `nn.BCEWithLogitsLoss()` has a built-in sigmoid activation function"
      ],
      "metadata": {
        "id": "pi2aPBM9o8bQ"
      }
    },
    {
      "cell_type": "code",
      "source": [
        "# Let's setup the loss function\n",
        "loss_func = nn.BCEWithLogitsLoss()\n",
        "\n",
        "optimizer = torch.optim.SGD(params=model_0.parameters(),\n",
        "                            lr=0.1)"
      ],
      "metadata": {
        "id": "tRlLE6CPx5LS"
      },
      "execution_count": null,
      "outputs": []
    },
    {
      "cell_type": "code",
      "source": [
        "# Let's calculate accuracy - out of 100 examples, what percentage does our model get right?\n",
        "def accuracy_func(Y_true, Y_pred):\n",
        "  return torch.eq(Y_true, Y_pred).sum().item() / len(Y_pred) * 100"
      ],
      "metadata": {
        "id": "ss4nTI-oykIe"
      },
      "execution_count": null,
      "outputs": []
    },
    {
      "cell_type": "markdown",
      "source": [
        "## 3. Train the model\n",
        "\n",
        "To train our model, we're going to need to build a traing loop with the following steps:\n",
        "\n",
        "1. Forward pass\n",
        "2. Calculate the loss\n",
        "3. Optimizer zero gradient\n",
        "4. Loss backword (backpropagation)\n",
        "5. Optimizer step"
      ],
      "metadata": {
        "id": "0M_8BUBiz9Lm"
      }
    },
    {
      "cell_type": "markdown",
      "source": [
        "### 3.1 Going from raw logits -> predictrion probabilities -> prediction labels\n",
        "\n",
        "Our model outputs are going to be raw **logits**.\n",
        "\n",
        "We can convert these **logits** into **prediction probabilities** by passing them to some kind of activation function (e.g. sigmoid for binary classification and softmax for multiclass classification).\n",
        "\n",
        "Then we can convert our model's prediction probabilities to **prediction labels** by either rounding them or taking the `argmax()`."
      ],
      "metadata": {
        "id": "dcdlYHse1rrr"
      }
    },
    {
      "cell_type": "code",
      "source": [
        "# View the first 5 outputs of the forward pass on the test data\n",
        "model_0.eval()\n",
        "with torch.inference_mode():\n",
        "  y_logits = model_0(X_test.to(device))[:5]\n",
        "y_logits"
      ],
      "metadata": {
        "colab": {
          "base_uri": "https://localhost:8080/"
        },
        "id": "Z2aWtvpO1ofs",
        "outputId": "520935e7-52aa-41a6-b8f3-ec08c5fdb7db"
      },
      "execution_count": null,
      "outputs": [
        {
          "output_type": "execute_result",
          "data": {
            "text/plain": [
              "tensor([[-0.6926],\n",
              "        [-0.4998],\n",
              "        [-0.8102],\n",
              "        [-0.6609],\n",
              "        [-0.1944]])"
            ]
          },
          "metadata": {},
          "execution_count": 22
        }
      ]
    },
    {
      "cell_type": "code",
      "source": [
        "# Let's use a sigmod function on our model logits to turn them into prediction probabilities\n",
        "Y_pred_probs = torch.sigmoid(y_logits)\n",
        "Y_pred_probs"
      ],
      "metadata": {
        "colab": {
          "base_uri": "https://localhost:8080/"
        },
        "id": "itYK90x8405h",
        "outputId": "e07a731e-d818-4cda-c376-2a45827762b9"
      },
      "execution_count": null,
      "outputs": [
        {
          "output_type": "execute_result",
          "data": {
            "text/plain": [
              "tensor([[0.3334],\n",
              "        [0.3776],\n",
              "        [0.3078],\n",
              "        [0.3405],\n",
              "        [0.4516]])"
            ]
          },
          "metadata": {},
          "execution_count": 23
        }
      ]
    },
    {
      "cell_type": "markdown",
      "source": [
        "For our prediction probability values, we need to perform a range-style rounding on them:\n",
        "\n",
        "- `Y_pred_probs` >= 0.5, `y=1` (class 1).\n",
        "- `Y_pred_probs` < 0.5, `y=0` (class 0)."
      ],
      "metadata": {
        "id": "HV_-u-UW5mSH"
      }
    },
    {
      "cell_type": "code",
      "source": [
        "# Find the predicticted labels\n",
        "Y_preds = torch.round(Y_pred_probs)\n",
        "\n",
        "# All step shown in one()\n",
        "Y_pred_labels = torch.round(torch.sigmoid(model_0(X_test.to(device))[:5]))\n",
        "\n",
        "# Check for equity\n",
        "print(torch.eq(Y_preds.squeeze(), Y_pred_labels.squeeze()))"
      ],
      "metadata": {
        "colab": {
          "base_uri": "https://localhost:8080/"
        },
        "id": "ZX4Kp1UP5455",
        "outputId": "19dbede7-54b9-43da-b170-32fdb3b85bda"
      },
      "execution_count": null,
      "outputs": [
        {
          "output_type": "stream",
          "name": "stdout",
          "text": [
            "tensor([True, True, True, True, True])\n"
          ]
        }
      ]
    },
    {
      "cell_type": "markdown",
      "source": [
        "### 3.2 Build a training model\n"
      ],
      "metadata": {
        "id": "ALmL9S0J8clK"
      }
    },
    {
      "cell_type": "code",
      "source": [
        "# Setting the number of epocs\n",
        "epochs = 100\n",
        "\n",
        "\n",
        "# Put data to device\n",
        "X_train, Y_train = X_train.to(device), Y_train.to(device)\n",
        "X_test, Y_test = X_test.to(device), Y_test.to(device)\n",
        "\n",
        "\n",
        "# Build training and evaluation loop\n",
        "for epoc in range(epochs):\n",
        "  ### Traing\n",
        "  model_0.train()\n",
        "\n",
        "  # 1. Forward pass\n",
        "  Y_logits = model_0(X_train).squeeze()\n",
        "  Y_preds = torch.round(torch.sigmoid(Y_logits))\n",
        "\n",
        "  # 2. Calculate loss/accuracy\n",
        "  loss = loss_func(Y_logits, Y_train)\n",
        "\n",
        "  acc = accuracy_func(Y_true=Y_train, Y_pred=Y_preds)\n",
        "\n",
        "\n",
        "  # 3. Optimizer zero grad\n",
        "  optimizer.zero_grad()\n",
        "\n",
        "\n",
        "  # 4. Loss backward\n",
        "  loss.backward()\n",
        "\n",
        "  # 5. Optimizer step\n",
        "  optimizer.step()\n",
        "\n",
        "  ### Testing\n",
        "  model_0.eval()\n",
        "  with torch.inference_mode():\n",
        "    # 1. Forward pass\n",
        "    test_logits = model_0(X_test).squeeze()\n",
        "    test_preds = torch.round(torch.sigmoid(test_logits))\n",
        "\n",
        "    # 2. Calculate loss/accuracy\n",
        "    test_loss = loss_func(test_logits, Y_test)\n",
        "    test_acc = accuracy_func(Y_true=Y_test, Y_pred=test_preds)"
      ],
      "metadata": {
        "id": "A_I2vbAbwprx",
        "colab": {
          "base_uri": "https://localhost:8080/",
          "height": 108
        },
        "outputId": "0f6b4c57-7dda-4a3f-a32a-e366a8c18bb3"
      },
      "execution_count": null,
      "outputs": [
        {
          "output_type": "error",
          "ename": "SyntaxError",
          "evalue": "incomplete input (<ipython-input-25-c41f19ddddf2>, line 11)",
          "traceback": [
            "\u001b[0;36m  File \u001b[0;32m\"<ipython-input-25-c41f19ddddf2>\"\u001b[0;36m, line \u001b[0;32m11\u001b[0m\n\u001b[0;31m    for epoc in range(epochs):\u001b[0m\n\u001b[0m                              ^\u001b[0m\n\u001b[0;31mSyntaxError\u001b[0m\u001b[0;31m:\u001b[0m incomplete input\n"
          ]
        }
      ]
    }
  ]
}