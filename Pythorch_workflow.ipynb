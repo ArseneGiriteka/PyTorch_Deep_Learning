{
  "nbformat": 4,
  "nbformat_minor": 0,
  "metadata": {
    "colab": {
      "provenance": [],
      "authorship_tag": "ABX9TyNL9psCOJu62ZjP/Z6lKTyg",
      "include_colab_link": true
    },
    "kernelspec": {
      "name": "python3",
      "display_name": "Python 3"
    },
    "language_info": {
      "name": "python"
    }
  },
  "cells": [
    {
      "cell_type": "markdown",
      "metadata": {
        "id": "view-in-github",
        "colab_type": "text"
      },
      "source": [
        "<a href=\"https://colab.research.google.com/github/ArseneGiriteka/PyTorch_Deep_Learning/blob/main/Pythorch_workflow.ipynb\" target=\"_parent\"><img src=\"https://colab.research.google.com/assets/colab-badge.svg\" alt=\"Open In Colab\"/></a>"
      ]
    },
    {
      "cell_type": "code",
      "execution_count": 155,
      "metadata": {
        "id": "D9LT38CoTakt"
      },
      "outputs": [],
      "source": [
        "What_will_be_covered = {1: \"data (prepare and load)\",\n",
        "                        2: \"build model\",\n",
        "                        3: \"fiting the model to data (training)\",\n",
        "                        4: \"making predictions and evaluating model (inference)\",\n",
        "                        5: \"saving and reloading model\",\n",
        "                        6: \"putting it all together\"}"
      ]
    },
    {
      "cell_type": "code",
      "source": [
        "import torch\n",
        "from torch import nn #nn contains all of pytorch's building blocks for neural networks\n",
        "import matplotlib.pyplot as plt\n",
        "\n",
        "torch.__version__"
      ],
      "metadata": {
        "colab": {
          "base_uri": "https://localhost:8080/",
          "height": 35
        },
        "id": "gmiy6WB5Ujju",
        "outputId": "0927005b-ff1c-4625-ef00-a57bf6c3e59e"
      },
      "execution_count": 156,
      "outputs": [
        {
          "output_type": "execute_result",
          "data": {
            "text/plain": [
              "'2.6.0+cu124'"
            ],
            "application/vnd.google.colaboratory.intrinsic+json": {
              "type": "string"
            }
          },
          "metadata": {},
          "execution_count": 156
        }
      ]
    },
    {
      "cell_type": "markdown",
      "source": [
        "## 1. Data (prepare and loading)\n",
        "Types of data in machine learning:\n",
        "* Excel speadsheet\n",
        "* Image of any kind\n",
        "* Videos\n",
        "* Audio\n",
        "* DNA\n",
        "* Text\n",
        "\n",
        "Machine learning is a game of two parts:\n",
        "1. Get data into numerical representation\n",
        "2. Build a model to learn patterns in that numerical representation\n",
        "\n",
        "To showcase this, let's create some kwown data using the linear regression formula.\n",
        "\n",
        "we'll use a linear regression formula to make a straight line with kwown parameters"
      ],
      "metadata": {
        "id": "VFiNmru8WHIS"
      }
    },
    {
      "cell_type": "code",
      "source": [
        "# Create *kwown* parameters\n",
        "weight = 0.7\n",
        "bias = 0.3\n",
        "\n",
        "start = 0\n",
        "end = 1\n",
        "step = 0.02\n",
        "\n",
        "X = torch.arange(start, end, step).unsqueeze(dim=1)\n",
        "Y = weight * X + bias\n",
        "X[:10], Y[:10], len(X), len(Y)"
      ],
      "metadata": {
        "colab": {
          "base_uri": "https://localhost:8080/"
        },
        "id": "h_02g1tyYuyd",
        "outputId": "e0100d61-4f34-46b5-cba0-be06b1061dad"
      },
      "execution_count": 157,
      "outputs": [
        {
          "output_type": "execute_result",
          "data": {
            "text/plain": [
              "(tensor([[0.0000],\n",
              "         [0.0200],\n",
              "         [0.0400],\n",
              "         [0.0600],\n",
              "         [0.0800],\n",
              "         [0.1000],\n",
              "         [0.1200],\n",
              "         [0.1400],\n",
              "         [0.1600],\n",
              "         [0.1800]]),\n",
              " tensor([[0.3000],\n",
              "         [0.3140],\n",
              "         [0.3280],\n",
              "         [0.3420],\n",
              "         [0.3560],\n",
              "         [0.3700],\n",
              "         [0.3840],\n",
              "         [0.3980],\n",
              "         [0.4120],\n",
              "         [0.4260]]),\n",
              " 50,\n",
              " 50)"
            ]
          },
          "metadata": {},
          "execution_count": 157
        }
      ]
    },
    {
      "cell_type": "markdown",
      "source": [
        "### Split data into training and test sets (one of the most important concept in machine learning in general)\n",
        "\n",
        "Let's Create a training and test set with our data"
      ],
      "metadata": {
        "id": "V7b5ZuOmySUG"
      }
    },
    {
      "cell_type": "code",
      "source": [
        "# Create a train/test split\n",
        "\n",
        "train_split = int(0.8 * len(X))\n",
        "X_train, Y_train = X[:train_split], Y[:train_split]\n",
        "X_test, Y_test = X[train_split:], Y[train_split:]\n",
        "\n",
        "len(X_train), len(Y_train), len(X_test), len(Y_test)"
      ],
      "metadata": {
        "id": "LWz2e4k_0NP-",
        "colab": {
          "base_uri": "https://localhost:8080/"
        },
        "outputId": "0647601b-604f-450d-e257-054caaca1a9b"
      },
      "execution_count": 158,
      "outputs": [
        {
          "output_type": "execute_result",
          "data": {
            "text/plain": [
              "(40, 40, 10, 10)"
            ]
          },
          "metadata": {},
          "execution_count": 158
        }
      ]
    },
    {
      "cell_type": "markdown",
      "source": [
        "#Let's vizualize data"
      ],
      "metadata": {
        "id": "a4HbvpJCw7Fa"
      }
    },
    {
      "cell_type": "code",
      "source": [
        "def plot_predictions(train_data=X_train, train_label=Y_train,\n",
        "                     test_data=X_test, test_label=Y_test,\n",
        "                     predictions=None):\n",
        "  \"\"\"Plots training data, test data and compare predictions.\"\"\"\n",
        "  plt.figure(figsize=(10, 7))\n",
        "\n",
        "  #plot training data in blue\n",
        "  plt.scatter(train_data, train_label, c=\"b\", s=4, label=\"Training data\")\n",
        "\n",
        "  #plot test data in green\n",
        "  plt.scatter(test_data, test_label, c=\"g\", s=4, label=\"Test data\")\n",
        "\n",
        "  # Are there predictions?\n",
        "  if predictions is not None:\n",
        "    plt.scatter(test_data, predictions, c=\"r\", s=4, label=\"Predictions\")\n",
        "\n",
        "  # Show the legend\n",
        "  plt.legend(prop={\"size\": 14})"
      ],
      "metadata": {
        "id": "InkAwlJwxB8U"
      },
      "execution_count": 159,
      "outputs": []
    },
    {
      "cell_type": "code",
      "source": [
        "plot_predictions();"
      ],
      "metadata": {
        "colab": {
          "base_uri": "https://localhost:8080/",
          "height": 599
        },
        "id": "LmYsz-dm0AtT",
        "outputId": "f5f50a44-f765-473f-940f-24ecee527e60"
      },
      "execution_count": 160,
      "outputs": [
        {
          "output_type": "display_data",
          "data": {
            "text/plain": [
              "<Figure size 1000x700 with 1 Axes>"
            ],
            "image/png": "[encoded data removed]"
          },
          "metadata": {}
        }
      ]
    },
    {
      "cell_type": "markdown",
      "source": [
        "## 2. Building a model\n",
        "\n",
        "first model\n",
        "\n",
        "What out model does:\n",
        "* start with random values (weight & bias)\n",
        "* Look at training data and adjust the random values to better represent (or get closer to) the ideal values (the weight & bias values we used to create the data)\n",
        "\n",
        "How does it do  so?\n",
        "\n",
        "Through two main algorithms:\n",
        "1. Cradient descent\n",
        "2. Backpropagation"
      ],
      "metadata": {
        "id": "N-zb_myF0wpq"
      }
    },
    {
      "cell_type": "code",
      "source": [
        "from torch import nn\n",
        "\n",
        "# Create linear regression model class\n",
        "class LinearRegressionModel(nn.Module): # <- Almost everything in Pytorch inherits from nn.Module\n",
        "  def __init__(self):\n",
        "    super().__init__()\n",
        "    self.weights = nn.Parameter(torch.randn(1, requires_grad=True, dtype=torch.float))\n",
        "    self.bias = nn.Parameter(torch.randn(1, requires_grad=True, dtype=torch.float))\n",
        "\n",
        "  # Forward method to define the computation in the model\n",
        "  def forward(self, x: torch.Tensor) -> torch.Tensor: # <- \"x\" is the input data\n",
        "    return self.weights * x + self.bias # linear regression formula"
      ],
      "metadata": {
        "id": "yy2WvoWG07V6"
      },
      "execution_count": 161,
      "outputs": []
    },
    {
      "cell_type": "markdown",
      "source": [
        "### Pytorch model building essentials\n",
        "\n",
        "* torch.nn - contains all of the building for computational graphs (neural networks).\n",
        "* torch.nn.Parameter - What parameters should our model try and learn, often a PyTorch layer from torch.nn will set these for us.\n",
        "* torch.nn.Module - The base class for all neural network modules, if you subclass it, you should overwrite `forward()`!!!\n",
        "* torch.optim - this is where the optimizer in PyTorch live, they will help with gradient descent.\n",
        "* def forward() - All nn.Module subclasses requires you to overwrite `forward()`, this method defines what happens in the forward computation."
      ],
      "metadata": {
        "id": "Dme5ojQ0kA6I"
      }
    },
    {
      "cell_type": "markdown",
      "source": [
        "### Checking the contents of our PyTorch model\n",
        "\n",
        "Now we've created a model, let's see what's inside...\n",
        "\n",
        "So we can check our model parameters or what's inside our model using `.parameter()`."
      ],
      "metadata": {
        "id": "1iYfE5pKpwXU"
      }
    },
    {
      "cell_type": "code",
      "source": [
        "# Let's create a random seed\n",
        "torch.manual_seed(42)\n",
        "\n",
        "# Let's create an instance of the model (this is a subclass of nn.Module)\n",
        "model_0 = LinearRegressionModel()\n",
        "list(model_0.parameters())"
      ],
      "metadata": {
        "colab": {
          "base_uri": "https://localhost:8080/"
        },
        "id": "c0sx8q1OoYPP",
        "outputId": "bad930c0-ccc5-46b8-bef5-29b311df0a6a"
      },
      "execution_count": 162,
      "outputs": [
        {
          "output_type": "execute_result",
          "data": {
            "text/plain": [
              "[Parameter containing:\n",
              " tensor([0.3367], requires_grad=True),\n",
              " Parameter containing:\n",
              " tensor([0.1288], requires_grad=True)]"
            ]
          },
          "metadata": {},
          "execution_count": 162
        }
      ]
    },
    {
      "cell_type": "code",
      "source": [
        "# List named parameters\n",
        "model_0.state_dict()"
      ],
      "metadata": {
        "colab": {
          "base_uri": "https://localhost:8080/"
        },
        "id": "IXnM0_Mksggh",
        "outputId": "ef9b1f4d-2dea-4dda-f714-59ded690cf44"
      },
      "execution_count": 163,
      "outputs": [
        {
          "output_type": "execute_result",
          "data": {
            "text/plain": [
              "OrderedDict([('weights', tensor([0.3367])), ('bias', tensor([0.1288]))])"
            ]
          },
          "metadata": {},
          "execution_count": 163
        }
      ]
    },
    {
      "cell_type": "markdown",
      "source": [
        "### Making predictions using `torch.inference_mode()`\n",
        "To check our model's predictive power, let's see how well it predicts `y_test` based on `x_test`.\n",
        "\n",
        "When we pass data through our model, it's going to run it through the `forward()` method."
      ],
      "metadata": {
        "id": "CBIrHWD5u6Qh"
      }
    },
    {
      "cell_type": "code",
      "source": [
        "X_test"
      ],
      "metadata": {
        "colab": {
          "base_uri": "https://localhost:8080/"
        },
        "id": "BAHgNElzw8P0",
        "outputId": "d71b1033-12b9-46f3-8fd3-0c28d0477db0"
      },
      "execution_count": 164,
      "outputs": [
        {
          "output_type": "execute_result",
          "data": {
            "text/plain": [
              "tensor([[0.8000],\n",
              "        [0.8200],\n",
              "        [0.8400],\n",
              "        [0.8600],\n",
              "        [0.8800],\n",
              "        [0.9000],\n",
              "        [0.9200],\n",
              "        [0.9400],\n",
              "        [0.9600],\n",
              "        [0.9800]])"
            ]
          },
          "metadata": {},
          "execution_count": 164
        }
      ]
    },
    {
      "cell_type": "code",
      "source": [
        "# Make predictions with model\n",
        "with torch.inference_mode():\n",
        "  Y_preds = model_0(X_test)\n",
        "\n",
        "Y_preds"
      ],
      "metadata": {
        "colab": {
          "base_uri": "https://localhost:8080/"
        },
        "id": "2XvEmETKxEr6",
        "outputId": "b02dc340-a217-498b-c6e1-6f6fa033d696"
      },
      "execution_count": 165,
      "outputs": [
        {
          "output_type": "execute_result",
          "data": {
            "text/plain": [
              "tensor([[0.3982],\n",
              "        [0.4049],\n",
              "        [0.4116],\n",
              "        [0.4184],\n",
              "        [0.4251],\n",
              "        [0.4318],\n",
              "        [0.4386],\n",
              "        [0.4453],\n",
              "        [0.4520],\n",
              "        [0.4588]])"
            ]
          },
          "metadata": {},
          "execution_count": 165
        }
      ]
    },
    {
      "cell_type": "markdown",
      "source": [
        "You can also do something similar with torch.no_grad(), however, torch.inference_mode() is prefered\n",
        "```python\n",
        "with torch.no_grad():\n",
        "    y_preds = model_0(X_test)\n",
        "```"
      ],
      "metadata": {
        "id": "afuRYKra2KGl"
      }
    },
    {
      "cell_type": "code",
      "source": [
        "Y_test"
      ],
      "metadata": {
        "colab": {
          "base_uri": "https://localhost:8080/"
        },
        "id": "_mpyDpaJyLf6",
        "outputId": "d2a86e6f-d215-4e35-86ed-3185de96e2dc"
      },
      "execution_count": 166,
      "outputs": [
        {
          "output_type": "execute_result",
          "data": {
            "text/plain": [
              "tensor([[0.8600],\n",
              "        [0.8740],\n",
              "        [0.8880],\n",
              "        [0.9020],\n",
              "        [0.9160],\n",
              "        [0.9300],\n",
              "        [0.9440],\n",
              "        [0.9580],\n",
              "        [0.9720],\n",
              "        [0.9860]])"
            ]
          },
          "metadata": {},
          "execution_count": 166
        }
      ]
    },
    {
      "cell_type": "code",
      "source": [
        "plot_predictions(predictions=Y_preds)"
      ],
      "metadata": {
        "colab": {
          "base_uri": "https://localhost:8080/",
          "height": 599
        },
        "id": "93VXPQrVyRxQ",
        "outputId": "06adc383-3d63-474e-96dc-a7433c498b58"
      },
      "execution_count": 167,
      "outputs": [
        {
          "output_type": "display_data",
          "data": {
            "text/plain": [
              "<Figure size 1000x700 with 1 Axes>"
            ],
            "image/png": "[encoded data removed]"
          },
          "metadata": {}
        }
      ]
    },
    {
      "cell_type": "markdown",
      "source": [
        "### Training model\n",
        "The whole idea of training is for a model to move from some unkwown parameters (these may be random) to some known parameters.\n",
        "\n",
        "Or in other words from a poor representation of the data to a better representation of the data.\n",
        "\n",
        "* Note: Loss function may also be called cost function or criterion in different areas.\n",
        "\n",
        "\n",
        "Things we need to train:\n",
        "* **Losss function:** A function to measure how wrong your model's predictions are to the ideal outputs, Lower is better.\n",
        "* **Optimizer:** Takes into account the loss of a moddel and adjusts the model's parameters (e.g. weight & bias in our case) to improve the loss function.\n",
        "\n",
        "  * Inside the optimizer you'll often have to set two parameters:\n",
        "    * `params` - The model parameter you'd like to optimize, for example `params=model_0.parameters()`.\n",
        "    * `lr` (learning rate) - the learning is the hyperparameter that defines how big/small the optimizer changes the parameters with each step (a small `lr` results in small changes, a large `lr` results in large changes).\n",
        "\n",
        "\n",
        "And specifically for PyTorch, we need:\n",
        "\n",
        "* Training loop\n",
        "* Testing loop"
      ],
      "metadata": {
        "id": "gYZIfOE_3TLl"
      }
    },
    {
      "cell_type": "code",
      "source": [
        "# setup a loss function\n",
        "loss_fn = nn.L1Loss()\n",
        "\n",
        "# setup an optimizer (stocastic gradient descent)\n",
        "optimizer = torch.optim.SGD(params=model_0.parameters(), lr=0.001) # lr = learning rate, possibly the most important hyperparameter you can set\n"
      ],
      "metadata": {
        "id": "fe4_WysD332e"
      },
      "execution_count": 168,
      "outputs": []
    },
    {
      "cell_type": "markdown",
      "source": [
        "### Building a training loop (and a testing loop) in PyTorch\n",
        "\n",
        "A couple of things we need in a training loop:\n",
        "0. Loop through the data.\n",
        "1. Foward pass (this involves data moving through our model's `forward()` functions) to make predictions on data - also called forward propagation.\n",
        "2. Calculate the loss (compare forward pass predictions to ground truth labels).\n",
        "3. Optimizer zero grad.\n",
        "4. Loss backward - move backward through the network to calculate the gradiant of each of the parameters of our model with respect to the loss (**Backpropagation**).\n",
        "5. Optimizer step - use the optimizer to adjust our model's parameters to try and improve the loss(**Gradient descent**)."
      ],
      "metadata": {
        "id": "TtH9CIk4hPSY"
      }
    },
    {
      "cell_type": "code",
      "source": [
        "# An epoch is one loop through the data... (this is a hyperparameter because we've set it ourselves)\n",
        "epochs = 1000\n",
        "\n",
        "epochs_counts = []\n",
        "loss_values = []\n",
        "test_loss_values = []\n",
        "\n",
        "### Training\n",
        "# 0. Loop through the data\n",
        "for epoch in range(epochs):\n",
        "  # Set the training mode\n",
        "  model_0.train() # Train mode in PyTorch sets all parameters that require gradients\n",
        "\n",
        "  # 1. Forward pass\n",
        "  Y_preds = model_0(X_train)\n",
        "\n",
        "  # 2. Calculate the loss\n",
        "  loss = loss_fn(Y_preds, Y_train)\n",
        "\n",
        "  #3. Optimizer zero grad\n",
        "  optimizer.zero_grad()\n",
        "\n",
        "  #4. Perform backpropagation on the loss with respect to the parameters of the model\n",
        "  loss.backward()\n",
        "\n",
        "  #5. Step the optimizer (perform gradient descent)\n",
        "  optimizer.step() # by default how the optimizer changes will accumulate through the loop so... we have to zero them above in step 3 for the netx iteration of the loop\n",
        "\n",
        "\n",
        "\n",
        "  model_0.eval() # turns off gradient tracking\n",
        "  # eval() turns off different settings in the model not needed for evaluation/testing (dropout/batch norm layers)\n",
        "\n",
        "  with torch.inference_mode(): # turns off gradient tracking & a couple more things behind scenes\n",
        "    # 1. Do the forward pass\n",
        "    test_pred = model_0(X_test)\n",
        "\n",
        "    # 2. Calculate the loss\n",
        "    test_loss = loss_fn(test_pred, Y_test)\n",
        "\n",
        "  # Print out what's happenning\n",
        "  if epoch % 10 == 0:\n",
        "    print(f\"Epoch: {epoch} | loss: {loss} | Test loss: {test_loss}\")\n",
        "\n",
        "    # Print out model state_dict()\n",
        "    print(model_0.state_dict())"
      ],
      "metadata": {
        "id": "0E8P1dgckgLt",
        "colab": {
          "base_uri": "https://localhost:8080/"
        },
        "outputId": "c1db8f76-fb6c-4cf6-f10e-aa042b548718"
      },
      "execution_count": 178,
      "outputs": [
        {
          "output_type": "stream",
          "name": "stdout",
          "text": [
            "Epoch: 0 | loss: 0.0004444979131221771 | Test loss: 0.0005780101055279374\n",
            "OrderedDict([('weights', tensor([0.6997])), ('bias', tensor([0.3008]))])\n",
            "Epoch: 10 | loss: 0.0004444979131221771 | Test loss: 0.0005780101055279374\n",
            "OrderedDict([('weights', tensor([0.6997])), ('bias', tensor([0.3008]))])\n",
            "Epoch: 20 | loss: 0.0004444979131221771 | Test loss: 0.0005780101055279374\n",
            "OrderedDict([('weights', tensor([0.6997])), ('bias', tensor([0.3008]))])\n",
            "Epoch: 30 | loss: 0.0004444979131221771 | Test loss: 0.0005780101055279374\n",
            "OrderedDict([('weights', tensor([0.6997])), ('bias', tensor([0.3008]))])\n",
            "Epoch: 40 | loss: 0.0004444979131221771 | Test loss: 0.0005780101055279374\n",
            "OrderedDict([('weights', tensor([0.6997])), ('bias', tensor([0.3008]))])\n",
            "Epoch: 50 | loss: 0.0004444979131221771 | Test loss: 0.0005780101055279374\n",
            "OrderedDict([('weights', tensor([0.6997])), ('bias', tensor([0.3008]))])\n",
            "Epoch: 60 | loss: 0.0004444979131221771 | Test loss: 0.0005780101055279374\n",
            "OrderedDict([('weights', tensor([0.6997])), ('bias', tensor([0.3008]))])\n",
            "Epoch: 70 | loss: 0.0004444979131221771 | Test loss: 0.0005780101055279374\n",
            "OrderedDict([('weights', tensor([0.6997])), ('bias', tensor([0.3008]))])\n",
            "Epoch: 80 | loss: 0.0004444979131221771 | Test loss: 0.0005780101055279374\n",
            "OrderedDict([('weights', tensor([0.6997])), ('bias', tensor([0.3008]))])\n",
            "Epoch: 90 | loss: 0.0004444979131221771 | Test loss: 0.0005780101055279374\n",
            "OrderedDict([('weights', tensor([0.6997])), ('bias', tensor([0.3008]))])\n",
            "Epoch: 100 | loss: 0.0004444979131221771 | Test loss: 0.0005780101055279374\n",
            "OrderedDict([('weights', tensor([0.6997])), ('bias', tensor([0.3008]))])\n",
            "Epoch: 110 | loss: 0.0004444979131221771 | Test loss: 0.0005780101055279374\n",
            "OrderedDict([('weights', tensor([0.6997])), ('bias', tensor([0.3008]))])\n",
            "Epoch: 120 | loss: 0.0004444979131221771 | Test loss: 0.0005780101055279374\n",
            "OrderedDict([('weights', tensor([0.6997])), ('bias', tensor([0.3008]))])\n",
            "Epoch: 130 | loss: 0.0004444979131221771 | Test loss: 0.0005780101055279374\n",
            "OrderedDict([('weights', tensor([0.6997])), ('bias', tensor([0.3008]))])\n",
            "Epoch: 140 | loss: 0.0004444979131221771 | Test loss: 0.0005780101055279374\n",
            "OrderedDict([('weights', tensor([0.6997])), ('bias', tensor([0.3008]))])\n",
            "Epoch: 150 | loss: 0.0004444979131221771 | Test loss: 0.0005780101055279374\n",
            "OrderedDict([('weights', tensor([0.6997])), ('bias', tensor([0.3008]))])\n",
            "Epoch: 160 | loss: 0.0004444979131221771 | Test loss: 0.0005780101055279374\n",
            "OrderedDict([('weights', tensor([0.6997])), ('bias', tensor([0.3008]))])\n",
            "Epoch: 170 | loss: 0.0004444979131221771 | Test loss: 0.0005780101055279374\n",
            "OrderedDict([('weights', tensor([0.6997])), ('bias', tensor([0.3008]))])\n",
            "Epoch: 180 | loss: 0.0004444979131221771 | Test loss: 0.0005780101055279374\n",
            "OrderedDict([('weights', tensor([0.6997])), ('bias', tensor([0.3008]))])\n",
            "Epoch: 190 | loss: 0.0004444979131221771 | Test loss: 0.0005780101055279374\n",
            "OrderedDict([('weights', tensor([0.6997])), ('bias', tensor([0.3008]))])\n",
            "Epoch: 200 | loss: 0.0004444979131221771 | Test loss: 0.0005780101055279374\n",
            "OrderedDict([('weights', tensor([0.6997])), ('bias', tensor([0.3008]))])\n",
            "Epoch: 210 | loss: 0.0004444979131221771 | Test loss: 0.0005780101055279374\n",
            "OrderedDict([('weights', tensor([0.6997])), ('bias', tensor([0.3008]))])\n",
            "Epoch: 220 | loss: 0.0004444979131221771 | Test loss: 0.0005780101055279374\n",
            "OrderedDict([('weights', tensor([0.6997])), ('bias', tensor([0.3008]))])\n",
            "Epoch: 230 | loss: 0.0004444979131221771 | Test loss: 0.0005780101055279374\n",
            "OrderedDict([('weights', tensor([0.6997])), ('bias', tensor([0.3008]))])\n",
            "Epoch: 240 | loss: 0.0004444979131221771 | Test loss: 0.0005780101055279374\n",
            "OrderedDict([('weights', tensor([0.6997])), ('bias', tensor([0.3008]))])\n",
            "Epoch: 250 | loss: 0.0004444979131221771 | Test loss: 0.0005780101055279374\n",
            "OrderedDict([('weights', tensor([0.6997])), ('bias', tensor([0.3008]))])\n",
            "Epoch: 260 | loss: 0.0004444979131221771 | Test loss: 0.0005780101055279374\n",
            "OrderedDict([('weights', tensor([0.6997])), ('bias', tensor([0.3008]))])\n",
            "Epoch: 270 | loss: 0.0004444979131221771 | Test loss: 0.0005780101055279374\n",
            "OrderedDict([('weights', tensor([0.6997])), ('bias', tensor([0.3008]))])\n",
            "Epoch: 280 | loss: 0.0004444979131221771 | Test loss: 0.0005780101055279374\n",
            "OrderedDict([('weights', tensor([0.6997])), ('bias', tensor([0.3008]))])\n",
            "Epoch: 290 | loss: 0.0004444979131221771 | Test loss: 0.0005780101055279374\n",
            "OrderedDict([('weights', tensor([0.6997])), ('bias', tensor([0.3008]))])\n",
            "Epoch: 300 | loss: 0.0004444979131221771 | Test loss: 0.0005780101055279374\n",
            "OrderedDict([('weights', tensor([0.6997])), ('bias', tensor([0.3008]))])\n",
            "Epoch: 310 | loss: 0.0004444979131221771 | Test loss: 0.0005780101055279374\n",
            "OrderedDict([('weights', tensor([0.6997])), ('bias', tensor([0.3008]))])\n",
            "Epoch: 320 | loss: 0.0004444979131221771 | Test loss: 0.0005780101055279374\n",
            "OrderedDict([('weights', tensor([0.6997])), ('bias', tensor([0.3008]))])\n",
            "Epoch: 330 | loss: 0.0004444979131221771 | Test loss: 0.0005780101055279374\n",
            "OrderedDict([('weights', tensor([0.6997])), ('bias', tensor([0.3008]))])\n",
            "Epoch: 340 | loss: 0.0004444979131221771 | Test loss: 0.0005780101055279374\n",
            "OrderedDict([('weights', tensor([0.6997])), ('bias', tensor([0.3008]))])\n",
            "Epoch: 350 | loss: 0.0004444979131221771 | Test loss: 0.0005780101055279374\n",
            "OrderedDict([('weights', tensor([0.6997])), ('bias', tensor([0.3008]))])\n",
            "Epoch: 360 | loss: 0.0004444979131221771 | Test loss: 0.0005780101055279374\n",
            "OrderedDict([('weights', tensor([0.6997])), ('bias', tensor([0.3008]))])\n",
            "Epoch: 370 | loss: 0.0004444979131221771 | Test loss: 0.0005780101055279374\n",
            "OrderedDict([('weights', tensor([0.6997])), ('bias', tensor([0.3008]))])\n",
            "Epoch: 380 | loss: 0.0004444979131221771 | Test loss: 0.0005780101055279374\n",
            "OrderedDict([('weights', tensor([0.6997])), ('bias', tensor([0.3008]))])\n",
            "Epoch: 390 | loss: 0.0004444979131221771 | Test loss: 0.0005780101055279374\n",
            "OrderedDict([('weights', tensor([0.6997])), ('bias', tensor([0.3008]))])\n",
            "Epoch: 400 | loss: 0.0004444979131221771 | Test loss: 0.0005780101055279374\n",
            "OrderedDict([('weights', tensor([0.6997])), ('bias', tensor([0.3008]))])\n",
            "Epoch: 410 | loss: 0.0004444979131221771 | Test loss: 0.0005780101055279374\n",
            "OrderedDict([('weights', tensor([0.6997])), ('bias', tensor([0.3008]))])\n",
            "Epoch: 420 | loss: 0.0004444979131221771 | Test loss: 0.0005780101055279374\n",
            "OrderedDict([('weights', tensor([0.6997])), ('bias', tensor([0.3008]))])\n",
            "Epoch: 430 | loss: 0.0004444979131221771 | Test loss: 0.0005780101055279374\n",
            "OrderedDict([('weights', tensor([0.6997])), ('bias', tensor([0.3008]))])\n",
            "Epoch: 440 | loss: 0.0004444979131221771 | Test loss: 0.0005780101055279374\n",
            "OrderedDict([('weights', tensor([0.6997])), ('bias', tensor([0.3008]))])\n",
            "Epoch: 450 | loss: 0.0004444979131221771 | Test loss: 0.0005780101055279374\n",
            "OrderedDict([('weights', tensor([0.6997])), ('bias', tensor([0.3008]))])\n",
            "Epoch: 460 | loss: 0.0004444979131221771 | Test loss: 0.0005780101055279374\n",
            "OrderedDict([('weights', tensor([0.6997])), ('bias', tensor([0.3008]))])\n",
            "Epoch: 470 | loss: 0.0004444979131221771 | Test loss: 0.0005780101055279374\n",
            "OrderedDict([('weights', tensor([0.6997])), ('bias', tensor([0.3008]))])\n",
            "Epoch: 480 | loss: 0.0004444979131221771 | Test loss: 0.0005780101055279374\n",
            "OrderedDict([('weights', tensor([0.6997])), ('bias', tensor([0.3008]))])\n",
            "Epoch: 490 | loss: 0.0004444979131221771 | Test loss: 0.0005780101055279374\n",
            "OrderedDict([('weights', tensor([0.6997])), ('bias', tensor([0.3008]))])\n",
            "Epoch: 500 | loss: 0.0004444979131221771 | Test loss: 0.0005780101055279374\n",
            "OrderedDict([('weights', tensor([0.6997])), ('bias', tensor([0.3008]))])\n",
            "Epoch: 510 | loss: 0.0004444979131221771 | Test loss: 0.0005780101055279374\n",
            "OrderedDict([('weights', tensor([0.6997])), ('bias', tensor([0.3008]))])\n",
            "Epoch: 520 | loss: 0.0004444979131221771 | Test loss: 0.0005780101055279374\n",
            "OrderedDict([('weights', tensor([0.6997])), ('bias', tensor([0.3008]))])\n",
            "Epoch: 530 | loss: 0.0004444979131221771 | Test loss: 0.0005780101055279374\n",
            "OrderedDict([('weights', tensor([0.6997])), ('bias', tensor([0.3008]))])\n",
            "Epoch: 540 | loss: 0.0004444979131221771 | Test loss: 0.0005780101055279374\n",
            "OrderedDict([('weights', tensor([0.6997])), ('bias', tensor([0.3008]))])\n",
            "Epoch: 550 | loss: 0.0004444979131221771 | Test loss: 0.0005780101055279374\n",
            "OrderedDict([('weights', tensor([0.6997])), ('bias', tensor([0.3008]))])\n",
            "Epoch: 560 | loss: 0.0004444979131221771 | Test loss: 0.0005780101055279374\n",
            "OrderedDict([('weights', tensor([0.6997])), ('bias', tensor([0.3008]))])\n",
            "Epoch: 570 | loss: 0.0004444979131221771 | Test loss: 0.0005780101055279374\n",
            "OrderedDict([('weights', tensor([0.6997])), ('bias', tensor([0.3008]))])\n",
            "Epoch: 580 | loss: 0.0004444979131221771 | Test loss: 0.0005780101055279374\n",
            "OrderedDict([('weights', tensor([0.6997])), ('bias', tensor([0.3008]))])\n",
            "Epoch: 590 | loss: 0.0004444979131221771 | Test loss: 0.0005780101055279374\n",
            "OrderedDict([('weights', tensor([0.6997])), ('bias', tensor([0.3008]))])\n",
            "Epoch: 600 | loss: 0.0004444979131221771 | Test loss: 0.0005780101055279374\n",
            "OrderedDict([('weights', tensor([0.6997])), ('bias', tensor([0.3008]))])\n",
            "Epoch: 610 | loss: 0.0004444979131221771 | Test loss: 0.0005780101055279374\n",
            "OrderedDict([('weights', tensor([0.6997])), ('bias', tensor([0.3008]))])\n",
            "Epoch: 620 | loss: 0.0004444979131221771 | Test loss: 0.0005780101055279374\n",
            "OrderedDict([('weights', tensor([0.6997])), ('bias', tensor([0.3008]))])\n",
            "Epoch: 630 | loss: 0.0004444979131221771 | Test loss: 0.0005780101055279374\n",
            "OrderedDict([('weights', tensor([0.6997])), ('bias', tensor([0.3008]))])\n",
            "Epoch: 640 | loss: 0.0004444979131221771 | Test loss: 0.0005780101055279374\n",
            "OrderedDict([('weights', tensor([0.6997])), ('bias', tensor([0.3008]))])\n",
            "Epoch: 650 | loss: 0.0004444979131221771 | Test loss: 0.0005780101055279374\n",
            "OrderedDict([('weights', tensor([0.6997])), ('bias', tensor([0.3008]))])\n",
            "Epoch: 660 | loss: 0.0004444979131221771 | Test loss: 0.0005780101055279374\n",
            "OrderedDict([('weights', tensor([0.6997])), ('bias', tensor([0.3008]))])\n",
            "Epoch: 670 | loss: 0.0004444979131221771 | Test loss: 0.0005780101055279374\n",
            "OrderedDict([('weights', tensor([0.6997])), ('bias', tensor([0.3008]))])\n",
            "Epoch: 680 | loss: 0.0004444979131221771 | Test loss: 0.0005780101055279374\n",
            "OrderedDict([('weights', tensor([0.6997])), ('bias', tensor([0.3008]))])\n",
            "Epoch: 690 | loss: 0.0004444979131221771 | Test loss: 0.0005780101055279374\n",
            "OrderedDict([('weights', tensor([0.6997])), ('bias', tensor([0.3008]))])\n",
            "Epoch: 700 | loss: 0.0004444979131221771 | Test loss: 0.0005780101055279374\n",
            "OrderedDict([('weights', tensor([0.6997])), ('bias', tensor([0.3008]))])\n",
            "Epoch: 710 | loss: 0.0004444979131221771 | Test loss: 0.0005780101055279374\n",
            "OrderedDict([('weights', tensor([0.6997])), ('bias', tensor([0.3008]))])\n",
            "Epoch: 720 | loss: 0.0004444979131221771 | Test loss: 0.0005780101055279374\n",
            "OrderedDict([('weights', tensor([0.6997])), ('bias', tensor([0.3008]))])\n",
            "Epoch: 730 | loss: 0.0004444979131221771 | Test loss: 0.0005780101055279374\n",
            "OrderedDict([('weights', tensor([0.6997])), ('bias', tensor([0.3008]))])\n",
            "Epoch: 740 | loss: 0.0004444979131221771 | Test loss: 0.0005780101055279374\n",
            "OrderedDict([('weights', tensor([0.6997])), ('bias', tensor([0.3008]))])\n",
            "Epoch: 750 | loss: 0.0004444979131221771 | Test loss: 0.0005780101055279374\n",
            "OrderedDict([('weights', tensor([0.6997])), ('bias', tensor([0.3008]))])\n",
            "Epoch: 760 | loss: 0.0004444979131221771 | Test loss: 0.0005780101055279374\n",
            "OrderedDict([('weights', tensor([0.6997])), ('bias', tensor([0.3008]))])\n",
            "Epoch: 770 | loss: 0.0004444979131221771 | Test loss: 0.0005780101055279374\n",
            "OrderedDict([('weights', tensor([0.6997])), ('bias', tensor([0.3008]))])\n",
            "Epoch: 780 | loss: 0.0004444979131221771 | Test loss: 0.0005780101055279374\n",
            "OrderedDict([('weights', tensor([0.6997])), ('bias', tensor([0.3008]))])\n",
            "Epoch: 790 | loss: 0.0004444979131221771 | Test loss: 0.0005780101055279374\n",
            "OrderedDict([('weights', tensor([0.6997])), ('bias', tensor([0.3008]))])\n",
            "Epoch: 800 | loss: 0.0004444979131221771 | Test loss: 0.0005780101055279374\n",
            "OrderedDict([('weights', tensor([0.6997])), ('bias', tensor([0.3008]))])\n",
            "Epoch: 810 | loss: 0.0004444979131221771 | Test loss: 0.0005780101055279374\n",
            "OrderedDict([('weights', tensor([0.6997])), ('bias', tensor([0.3008]))])\n",
            "Epoch: 820 | loss: 0.0004444979131221771 | Test loss: 0.0005780101055279374\n",
            "OrderedDict([('weights', tensor([0.6997])), ('bias', tensor([0.3008]))])\n",
            "Epoch: 830 | loss: 0.0004444979131221771 | Test loss: 0.0005780101055279374\n",
            "OrderedDict([('weights', tensor([0.6997])), ('bias', tensor([0.3008]))])\n",
            "Epoch: 840 | loss: 0.0004444979131221771 | Test loss: 0.0005780101055279374\n",
            "OrderedDict([('weights', tensor([0.6997])), ('bias', tensor([0.3008]))])\n",
            "Epoch: 850 | loss: 0.0004444979131221771 | Test loss: 0.0005780101055279374\n",
            "OrderedDict([('weights', tensor([0.6997])), ('bias', tensor([0.3008]))])\n",
            "Epoch: 860 | loss: 0.0004444979131221771 | Test loss: 0.0005780101055279374\n",
            "OrderedDict([('weights', tensor([0.6997])), ('bias', tensor([0.3008]))])\n",
            "Epoch: 870 | loss: 0.0004444979131221771 | Test loss: 0.0005780101055279374\n",
            "OrderedDict([('weights', tensor([0.6997])), ('bias', tensor([0.3008]))])\n",
            "Epoch: 880 | loss: 0.0004444979131221771 | Test loss: 0.0005780101055279374\n",
            "OrderedDict([('weights', tensor([0.6997])), ('bias', tensor([0.3008]))])\n",
            "Epoch: 890 | loss: 0.0004444979131221771 | Test loss: 0.0005780101055279374\n",
            "OrderedDict([('weights', tensor([0.6997])), ('bias', tensor([0.3008]))])\n",
            "Epoch: 900 | loss: 0.0004444979131221771 | Test loss: 0.0005780101055279374\n",
            "OrderedDict([('weights', tensor([0.6997])), ('bias', tensor([0.3008]))])\n",
            "Epoch: 910 | loss: 0.0004444979131221771 | Test loss: 0.0005780101055279374\n",
            "OrderedDict([('weights', tensor([0.6997])), ('bias', tensor([0.3008]))])\n",
            "Epoch: 920 | loss: 0.0004444979131221771 | Test loss: 0.0005780101055279374\n",
            "OrderedDict([('weights', tensor([0.6997])), ('bias', tensor([0.3008]))])\n",
            "Epoch: 930 | loss: 0.0004444979131221771 | Test loss: 0.0005780101055279374\n",
            "OrderedDict([('weights', tensor([0.6997])), ('bias', tensor([0.3008]))])\n",
            "Epoch: 940 | loss: 0.0004444979131221771 | Test loss: 0.0005780101055279374\n",
            "OrderedDict([('weights', tensor([0.6997])), ('bias', tensor([0.3008]))])\n",
            "Epoch: 950 | loss: 0.0004444979131221771 | Test loss: 0.0005780101055279374\n",
            "OrderedDict([('weights', tensor([0.6997])), ('bias', tensor([0.3008]))])\n",
            "Epoch: 960 | loss: 0.0004444979131221771 | Test loss: 0.0005780101055279374\n",
            "OrderedDict([('weights', tensor([0.6997])), ('bias', tensor([0.3008]))])\n",
            "Epoch: 970 | loss: 0.0004444979131221771 | Test loss: 0.0005780101055279374\n",
            "OrderedDict([('weights', tensor([0.6997])), ('bias', tensor([0.3008]))])\n",
            "Epoch: 980 | loss: 0.0004444979131221771 | Test loss: 0.0005780101055279374\n",
            "OrderedDict([('weights', tensor([0.6997])), ('bias', tensor([0.3008]))])\n",
            "Epoch: 990 | loss: 0.0004444979131221771 | Test loss: 0.0005780101055279374\n",
            "OrderedDict([('weights', tensor([0.6997])), ('bias', tensor([0.3008]))])\n"
          ]
        }
      ]
    },
    {
      "cell_type": "code",
      "source": [
        "model_0.state_dict()"
      ],
      "metadata": {
        "colab": {
          "base_uri": "https://localhost:8080/"
        },
        "id": "ejUIQpEVRGNS",
        "outputId": "8b893e57-f09a-4c35-fdca-ffbf991d9932"
      },
      "execution_count": 181,
      "outputs": [
        {
          "output_type": "execute_result",
          "data": {
            "text/plain": [
              "OrderedDict([('weights', tensor([0.6994])), ('bias', tensor([0.2998]))])"
            ]
          },
          "metadata": {},
          "execution_count": 181
        }
      ]
    },
    {
      "cell_type": "code",
      "source": [
        "with torch.inference_mode():\n",
        "  Y_preds_new = model_0(X_test)"
      ],
      "metadata": {
        "id": "N6NRcUusTlSJ"
      },
      "execution_count": 182,
      "outputs": []
    },
    {
      "cell_type": "code",
      "source": [
        "plot_predictions(predictions=Y_preds_new)"
      ],
      "metadata": {
        "colab": {
          "base_uri": "https://localhost:8080/",
          "height": 599
        },
        "id": "zDXIo5D9UBpp",
        "outputId": "de1e001a-7ca6-4bb1-dc38-c994e31936cf"
      },
      "execution_count": 176,
      "outputs": [
        {
          "output_type": "display_data",
          "data": {
            "text/plain": [
              "<Figure size 1000x700 with 1 Axes>"
            ],
            "image/png": "[encoded data removed]"
          },
          "metadata": {}
        }
      ]
    }
  ]
}