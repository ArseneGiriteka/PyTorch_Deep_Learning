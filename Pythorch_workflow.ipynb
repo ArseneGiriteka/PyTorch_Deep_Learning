{
  "nbformat": 4,
  "nbformat_minor": 0,
  "metadata": {
    "colab": {
      "provenance": [],
      "authorship_tag": "ABX9TyOq32eEfYrt29vQRKhF6kxR",
      "include_colab_link": true
    },
    "kernelspec": {
      "name": "python3",
      "display_name": "Python 3"
    },
    "language_info": {
      "name": "python"
    }
  },
  "cells": [
    {
      "cell_type": "markdown",
      "metadata": {
        "id": "view-in-github",
        "colab_type": "text"
      },
      "source": [
        "<a href=\"https://colab.research.google.com/github/ArseneGiriteka/PyTorch_Deep_Learning/blob/main/Pythorch_workflow.ipynb\" target=\"_parent\"><img src=\"https://colab.research.google.com/assets/colab-badge.svg\" alt=\"Open In Colab\"/></a>"
      ]
    },
    {
      "cell_type": "code",
      "execution_count": 89,
      "metadata": {
        "id": "D9LT38CoTakt"
      },
      "outputs": [],
      "source": [
        "What_will_be_covered = {1: \"data (prepare and load)\",\n",
        "                        2: \"build model\",\n",
        "                        3: \"fiting the model to data (training)\",\n",
        "                        4: \"making predictions and evaluating model (inference)\",\n",
        "                        5: \"saving and reloading model\",\n",
        "                        6: \"putting it all together\"}"
      ]
    },
    {
      "cell_type": "code",
      "source": [
        "import torch\n",
        "from torch import nn #nn contains all of pytorch's building blocks for neural networks\n",
        "import matplotlib.pyplot as plt\n",
        "\n",
        "torch.__version__"
      ],
      "metadata": {
        "colab": {
          "base_uri": "https://localhost:8080/",
          "height": 35
        },
        "id": "gmiy6WB5Ujju",
        "outputId": "25b197c0-d9af-44fd-e26d-9bd4287bbe33"
      },
      "execution_count": 90,
      "outputs": [
        {
          "output_type": "execute_result",
          "data": {
            "text/plain": [
              "'2.6.0+cu124'"
            ],
            "application/vnd.google.colaboratory.intrinsic+json": {
              "type": "string"
            }
          },
          "metadata": {},
          "execution_count": 90
        }
      ]
    },
    {
      "cell_type": "markdown",
      "source": [
        "## 1. Data (prepare and loading)\n",
        "Types of data in machine learning:\n",
        "* Excel speadsheet\n",
        "* Image of any kind\n",
        "* Videos\n",
        "* Audio\n",
        "* DNA\n",
        "* Text\n",
        "\n",
        "Machine learning is a game of two parts:\n",
        "1. Get data into numerical representation\n",
        "2. Build a model to learn patterns in that numerical representation\n",
        "\n",
        "To showcase this, let's create some kwown data using the linear regression formula.\n",
        "\n",
        "we'll use a linear regression formula to make a straight line with kwown parameters"
      ],
      "metadata": {
        "id": "VFiNmru8WHIS"
      }
    },
    {
      "cell_type": "code",
      "source": [
        "# Create *kwown* parameters\n",
        "weight = 0.7\n",
        "bias = 0.3\n",
        "\n",
        "start = 0\n",
        "end = 1\n",
        "step = 0.02\n",
        "\n",
        "X = torch.arange(start, end, step).unsqueeze(dim=1)\n",
        "Y = weight * X + bias\n",
        "X[:10], Y[:10], len(X), len(Y)"
      ],
      "metadata": {
        "colab": {
          "base_uri": "https://localhost:8080/"
        },
        "id": "h_02g1tyYuyd",
        "outputId": "5ad42852-0791-47b4-ba5f-e886a9968472"
      },
      "execution_count": 91,
      "outputs": [
        {
          "output_type": "execute_result",
          "data": {
            "text/plain": [
              "(tensor([[0.0000],\n",
              "         [0.0200],\n",
              "         [0.0400],\n",
              "         [0.0600],\n",
              "         [0.0800],\n",
              "         [0.1000],\n",
              "         [0.1200],\n",
              "         [0.1400],\n",
              "         [0.1600],\n",
              "         [0.1800]]),\n",
              " tensor([[0.3000],\n",
              "         [0.3140],\n",
              "         [0.3280],\n",
              "         [0.3420],\n",
              "         [0.3560],\n",
              "         [0.3700],\n",
              "         [0.3840],\n",
              "         [0.3980],\n",
              "         [0.4120],\n",
              "         [0.4260]]),\n",
              " 50,\n",
              " 50)"
            ]
          },
          "metadata": {},
          "execution_count": 91
        }
      ]
    },
    {
      "cell_type": "markdown",
      "source": [
        "### Split data into training and test sets (one of the most important concept in machine learning in general)\n",
        "\n",
        "Let's Create a training and test set with our data"
      ],
      "metadata": {
        "id": "V7b5ZuOmySUG"
      }
    },
    {
      "cell_type": "code",
      "source": [
        "# Create a train/test split\n",
        "\n",
        "train_split = int(0.8 * len(X))\n",
        "X_train, Y_train = X[:train_split], Y[:train_split]\n",
        "X_test, Y_test = X[train_split:], Y[train_split:]\n",
        "\n",
        "len(X_train), len(Y_train), len(X_test), len(Y_test)"
      ],
      "metadata": {
        "id": "LWz2e4k_0NP-",
        "colab": {
          "base_uri": "https://localhost:8080/"
        },
        "outputId": "6182fd27-5a42-4a44-8bf5-31a1045da559"
      },
      "execution_count": 92,
      "outputs": [
        {
          "output_type": "execute_result",
          "data": {
            "text/plain": [
              "(40, 40, 10, 10)"
            ]
          },
          "metadata": {},
          "execution_count": 92
        }
      ]
    },
    {
      "cell_type": "markdown",
      "source": [
        "#Let's vizualize data"
      ],
      "metadata": {
        "id": "a4HbvpJCw7Fa"
      }
    },
    {
      "cell_type": "code",
      "source": [
        "def plot_predictions(train_data=X_train, train_label=Y_train,\n",
        "                     test_data=X_test, test_label=Y_test,\n",
        "                     predictions=None):\n",
        "  \"\"\"Plots training data, test data and compare predictions.\"\"\"\n",
        "  plt.figure(figsize=(10, 7))\n",
        "\n",
        "  #plot training data in blue\n",
        "  plt.scatter(train_data, train_label, c=\"b\", s=4, label=\"Training data\")\n",
        "\n",
        "  #plot test data in green\n",
        "  plt.scatter(test_data, test_label, c=\"g\", s=4, label=\"Test data\")\n",
        "\n",
        "  # Are there predictions?\n",
        "  if predictions is not None:\n",
        "    plt.scatter(test_data, predictions, c=\"r\", s=4, label=\"Predictions\")\n",
        "\n",
        "  # Show the legend\n",
        "  plt.legend(prop={\"size\": 14})"
      ],
      "metadata": {
        "id": "InkAwlJwxB8U"
      },
      "execution_count": 93,
      "outputs": []
    },
    {
      "cell_type": "code",
      "source": [
        "plot_predictions();"
      ],
      "metadata": {
        "colab": {
          "base_uri": "https://localhost:8080/",
          "height": 599
        },
        "id": "LmYsz-dm0AtT",
        "outputId": "3ca12e1a-21cd-4150-fb2e-1025e22114b2"
      },
      "execution_count": 94,
      "outputs": [
        {
          "output_type": "display_data",
          "data": {
            "text/plain": [
              "<Figure size 1000x700 with 1 Axes>"
            ],
            "image/png": "[encoded data removed]"
          },
          "metadata": {}
        }
      ]
    },
    {
      "cell_type": "markdown",
      "source": [
        "## 2. Building a model\n",
        "\n",
        "first model\n",
        "\n",
        "What out model does:\n",
        "* start with random values (weight & bias)\n",
        "* Look at training data and adjust the random values to better represent (or get closer to) the ideal values (the weight & bias values we used to create the data)\n",
        "\n",
        "How does it do  so?\n",
        "\n",
        "Through two main algorithms:\n",
        "1. Cradient descent\n",
        "2. Backpropagation"
      ],
      "metadata": {
        "id": "N-zb_myF0wpq"
      }
    },
    {
      "cell_type": "code",
      "source": [
        "from torch import nn\n",
        "\n",
        "# Create linear regression model class\n",
        "class LinearRegressionModel(nn.Module): # <- Almost everything in Pytorch inherits from nn.Module\n",
        "  def __init__(self):\n",
        "    super().__init__()\n",
        "    self.weights = nn.Parameter(torch.randn(1, requires_grad=True, dtype=torch.float))\n",
        "    self.bias = nn.Parameter(torch.randn(1, requires_grad=True, dtype=torch.float))\n",
        "\n",
        "  # Forward method to define the computation in the model\n",
        "  def forward(self, x: torch.Tensor) -> torch.Tensor: # <- \"x\" is the input data\n",
        "    return self.weights * x + self.bias # linear regression formula"
      ],
      "metadata": {
        "id": "yy2WvoWG07V6"
      },
      "execution_count": 95,
      "outputs": []
    },
    {
      "cell_type": "markdown",
      "source": [
        "### Pytorch model building essentials\n",
        "\n",
        "* torch.nn - contains all of the building for computational graphs (neural networks).\n",
        "* torch.nn.Parameter - What parameters should our model try and learn, often a PyTorch layer from torch.nn will set these for us.\n",
        "* torch.nn.Module - The base class for all neural network modules, if you subclass it, you should overwrite `forward()`!!!\n",
        "* torch.optim - this is where the optimizer in PyTorch live, they will help with gradient descent.\n",
        "* def forward() - All nn.Module subclasses requires you to overwrite `forward()`, this method defines what happens in the forward computation."
      ],
      "metadata": {
        "id": "Dme5ojQ0kA6I"
      }
    },
    {
      "cell_type": "markdown",
      "source": [
        "### Checking the contents of our PyTorch model\n",
        "\n",
        "Now we've created a model, let's see what's inside...\n",
        "\n",
        "So we can check our model parameters or what's inside our model using `.parameter()`."
      ],
      "metadata": {
        "id": "1iYfE5pKpwXU"
      }
    },
    {
      "cell_type": "code",
      "source": [
        "# Let's create a random seed\n",
        "torch.manual_seed(42)\n",
        "\n",
        "# Let's create an instance of the model (this is a subclass of nn.Module)\n",
        "model_0 = LinearRegressionModel()\n",
        "list(model_0.parameters())"
      ],
      "metadata": {
        "colab": {
          "base_uri": "https://localhost:8080/"
        },
        "id": "c0sx8q1OoYPP",
        "outputId": "ba98ac63-7125-4725-a1a2-4e01b39ca8d5"
      },
      "execution_count": 96,
      "outputs": [
        {
          "output_type": "execute_result",
          "data": {
            "text/plain": [
              "[Parameter containing:\n",
              " tensor([0.3367], requires_grad=True),\n",
              " Parameter containing:\n",
              " tensor([0.1288], requires_grad=True)]"
            ]
          },
          "metadata": {},
          "execution_count": 96
        }
      ]
    },
    {
      "cell_type": "code",
      "source": [
        "# List named parameters\n",
        "model_0.state_dict()"
      ],
      "metadata": {
        "colab": {
          "base_uri": "https://localhost:8080/"
        },
        "id": "IXnM0_Mksggh",
        "outputId": "d13ff449-adc9-4675-a08d-517e61754915"
      },
      "execution_count": 97,
      "outputs": [
        {
          "output_type": "execute_result",
          "data": {
            "text/plain": [
              "OrderedDict([('weights', tensor([0.3367])), ('bias', tensor([0.1288]))])"
            ]
          },
          "metadata": {},
          "execution_count": 97
        }
      ]
    },
    {
      "cell_type": "markdown",
      "source": [
        "### Making predictions using `torch.inference_mode()`\n",
        "To check our model's predictive power, let's see how well it predicts `y_test` based on `x_test`.\n",
        "\n",
        "When we pass data through our model, it's going to run it through the `forward()` method."
      ],
      "metadata": {
        "id": "CBIrHWD5u6Qh"
      }
    },
    {
      "cell_type": "code",
      "source": [
        "X_test"
      ],
      "metadata": {
        "colab": {
          "base_uri": "https://localhost:8080/"
        },
        "id": "BAHgNElzw8P0",
        "outputId": "06d2a7dc-5a18-42b1-8c60-ee2934574ee0"
      },
      "execution_count": 98,
      "outputs": [
        {
          "output_type": "execute_result",
          "data": {
            "text/plain": [
              "tensor([[0.8000],\n",
              "        [0.8200],\n",
              "        [0.8400],\n",
              "        [0.8600],\n",
              "        [0.8800],\n",
              "        [0.9000],\n",
              "        [0.9200],\n",
              "        [0.9400],\n",
              "        [0.9600],\n",
              "        [0.9800]])"
            ]
          },
          "metadata": {},
          "execution_count": 98
        }
      ]
    },
    {
      "cell_type": "code",
      "source": [
        "# Make predictions with model\n",
        "with torch.inference_mode():\n",
        "  Y_preds = model_0(X_test)\n",
        "\n",
        "Y_preds"
      ],
      "metadata": {
        "colab": {
          "base_uri": "https://localhost:8080/"
        },
        "id": "2XvEmETKxEr6",
        "outputId": "5a906d17-690f-42b3-be62-21b23abcac3b"
      },
      "execution_count": 99,
      "outputs": [
        {
          "output_type": "execute_result",
          "data": {
            "text/plain": [
              "tensor([[0.3982],\n",
              "        [0.4049],\n",
              "        [0.4116],\n",
              "        [0.4184],\n",
              "        [0.4251],\n",
              "        [0.4318],\n",
              "        [0.4386],\n",
              "        [0.4453],\n",
              "        [0.4520],\n",
              "        [0.4588]])"
            ]
          },
          "metadata": {},
          "execution_count": 99
        }
      ]
    },
    {
      "cell_type": "markdown",
      "source": [
        "You can also do something similar with torch.no_grad(), however, torch.inference_mode() is prefered\n",
        "```python\n",
        "with torch.no_grad():\n",
        "    y_preds = model_0(X_test)\n",
        "```"
      ],
      "metadata": {
        "id": "afuRYKra2KGl"
      }
    },
    {
      "cell_type": "code",
      "source": [
        "Y_test"
      ],
      "metadata": {
        "colab": {
          "base_uri": "https://localhost:8080/"
        },
        "id": "_mpyDpaJyLf6",
        "outputId": "d0879d26-2d33-4e5c-f1a5-1053d42c030e"
      },
      "execution_count": 100,
      "outputs": [
        {
          "output_type": "execute_result",
          "data": {
            "text/plain": [
              "tensor([[0.8600],\n",
              "        [0.8740],\n",
              "        [0.8880],\n",
              "        [0.9020],\n",
              "        [0.9160],\n",
              "        [0.9300],\n",
              "        [0.9440],\n",
              "        [0.9580],\n",
              "        [0.9720],\n",
              "        [0.9860]])"
            ]
          },
          "metadata": {},
          "execution_count": 100
        }
      ]
    },
    {
      "cell_type": "code",
      "source": [
        "plot_predictions(predictions=Y_preds)"
      ],
      "metadata": {
        "colab": {
          "base_uri": "https://localhost:8080/",
          "height": 599
        },
        "id": "93VXPQrVyRxQ",
        "outputId": "7af9e9eb-73bb-4219-d1ac-d5268df5a6b5"
      },
      "execution_count": 101,
      "outputs": [
        {
          "output_type": "display_data",
          "data": {
            "text/plain": [
              "<Figure size 1000x700 with 1 Axes>"
            ],
            "image/png": "[encoded data removed]"
          },
          "metadata": {}
        }
      ]
    },
    {
      "cell_type": "markdown",
      "source": [
        "### Training model\n",
        "The whole idea of training is for a model to move from some unkwown parameters (these may be random) to some known parameters.\n",
        "\n",
        "Or in other words from a poor representation of the data to a better representation of the data.\n",
        "\n",
        "* Note: Loss function may also be called cost function or criterion in different areas.\n",
        "\n",
        "\n",
        "Things we need to train:\n",
        "* **Losss function:** A function to measure how wrong your model's predictions are to the ideal outputs, Lower is better.\n",
        "* **Optimizer:** Takes into account the loss of a moddel and adjusts the model's parameters (e.g. weight & bias in our case) to improve the loss function.\n",
        "\n",
        "  * Inside the optimizer you'll often have to set two parameters:\n",
        "    * `params` - The model parameter you'd like to optimize, for example `params=model_0.parameters()`.\n",
        "    * `lr` (learning rate) - the learning is the hyperparameter that defines how big/small the optimizer changes the parameters with each step (a small `lr` results in small changes, a large `lr` results in large changes).\n",
        "\n",
        "\n",
        "And specifically for PyTorch, we need:\n",
        "\n",
        "* Training loop\n",
        "* Testing loop"
      ],
      "metadata": {
        "id": "gYZIfOE_3TLl"
      }
    },
    {
      "cell_type": "code",
      "source": [
        "# setup a loss function\n",
        "loss_fn = nn.L1Loss()\n",
        "\n",
        "# setup an optimizer (stocastic gradient descent)\n",
        "optimizer = torch.optim.SGD(params=model_0.parameters(), lr=0.001) # lr = learning rate, possibly the most important hyperparameter you can set\n"
      ],
      "metadata": {
        "id": "fe4_WysD332e"
      },
      "execution_count": 102,
      "outputs": []
    },
    {
      "cell_type": "markdown",
      "source": [
        "### Building a training loop (and a testing loop) in PyTorch\n",
        "\n",
        "A couple of things we need in a training loop:\n",
        "0. Loop through the data.\n",
        "1. Foward pass (this involves data moving through our model's `forward()` functions) to make predictions on data - also called forward propagation.\n",
        "2. Calculate the loss (compare forward pass predictions to ground truth labels).\n",
        "3. Optimizer zero grad.\n",
        "4. Loss backward - move backward through the network to calculate the gradiant of each of the parameters of our model with respect to the loss (**Backpropagation**).\n",
        "5. Optimizer step - use the optimizer to adjust our model's parameters to try and improve the loss(**Gradient descent**)."
      ],
      "metadata": {
        "id": "TtH9CIk4hPSY"
      }
    },
    {
      "cell_type": "code",
      "source": [
        "# An epoch is one loop through the data... (this is a hyperparameter because we've set it ourselves)\n",
        "epochs = 2000\n",
        "\n",
        "epochs_counts = []\n",
        "loss_values = []\n",
        "test_loss_values = []\n",
        "\n",
        "### Training\n",
        "# 0. Loop through the data\n",
        "for epoch in range(epochs):\n",
        "  # Set the training mode\n",
        "  model_0.train() # Train mode in PyTorch sets all parameters that require gradients\n",
        "\n",
        "  # 1. Forward pass\n",
        "  Y_preds = model_0(X_train)\n",
        "\n",
        "  # 2. Calculate the loss\n",
        "  loss = loss_fn(Y_preds, Y_train)\n",
        "\n",
        "  #3. Optimizer zero grad\n",
        "  optimizer.zero_grad()\n",
        "\n",
        "  #4. Perform backpropagation on the loss with respect to the parameters of the model\n",
        "  loss.backward()\n",
        "\n",
        "  #5. Step the optimizer (perform gradient descent)\n",
        "  optimizer.step() # by default how the optimizer changes will accumulate through the loop so... we have to zero them above in step 3 for the netx iteration of the loop\n",
        "\n",
        "\n",
        "\n",
        "  model_0.eval() # turns off gradient tracking\n",
        "  # eval() turns off different settings in the model not needed for evaluation/testing (dropout/batch norm layers)\n",
        "\n",
        "  with torch.inference_mode(): # turns off gradient tracking & a couple more things behind scenes\n",
        "    # 1. Do the forward pass\n",
        "    test_pred = model_0(X_test)\n",
        "\n",
        "    # 2. Calculate the loss\n",
        "    test_loss = loss_fn(test_pred, Y_test)\n",
        "\n",
        "  # Print out what's happenning\n",
        "  if epoch % 10 == 0:\n",
        "    epochs_counts.append(epoch)\n",
        "    loss_values.append(loss)\n",
        "    test_loss_values.append(test_loss)\n",
        "    print(f\"Epoch: {epoch} | loss: {loss} | Test loss: {test_loss}\")\n",
        "\n",
        "    # Print out model state_dict()\n",
        "    print(model_0.state_dict())"
      ],
      "metadata": {
        "id": "0E8P1dgckgLt",
        "colab": {
          "base_uri": "https://localhost:8080/"
        },
        "outputId": "330bb0be-8137-485e-ef27-12b7c872adf9"
      },
      "execution_count": 103,
      "outputs": [
        {
          "output_type": "stream",
          "name": "stdout",
          "text": [
            "Epoch: 0 | loss: 0.31288138031959534 | Test loss: 0.4931890368461609\n",
            "OrderedDict([('weights', tensor([0.3371])), ('bias', tensor([0.1298]))])\n",
            "Epoch: 10 | loss: 0.3013603389263153 | Test loss: 0.4797181189060211\n",
            "OrderedDict([('weights', tensor([0.3410])), ('bias', tensor([0.1398]))])\n",
            "Epoch: 20 | loss: 0.28983938694000244 | Test loss: 0.4662471413612366\n",
            "OrderedDict([('weights', tensor([0.3449])), ('bias', tensor([0.1498]))])\n",
            "Epoch: 30 | loss: 0.2783183455467224 | Test loss: 0.4527761936187744\n",
            "OrderedDict([('weights', tensor([0.3488])), ('bias', tensor([0.1598]))])\n",
            "Epoch: 40 | loss: 0.26679736375808716 | Test loss: 0.43930521607398987\n",
            "OrderedDict([('weights', tensor([0.3527])), ('bias', tensor([0.1698]))])\n",
            "Epoch: 50 | loss: 0.2552763819694519 | Test loss: 0.4258342385292053\n",
            "OrderedDict([('weights', tensor([0.3566])), ('bias', tensor([0.1798]))])\n",
            "Epoch: 60 | loss: 0.24375538527965546 | Test loss: 0.41236335039138794\n",
            "OrderedDict([('weights', tensor([0.3605])), ('bias', tensor([0.1898]))])\n",
            "Epoch: 70 | loss: 0.232234388589859 | Test loss: 0.398892343044281\n",
            "OrderedDict([('weights', tensor([0.3644])), ('bias', tensor([0.1998]))])\n",
            "Epoch: 80 | loss: 0.22071340680122375 | Test loss: 0.38542139530181885\n",
            "OrderedDict([('weights', tensor([0.3683])), ('bias', tensor([0.2098]))])\n",
            "Epoch: 90 | loss: 0.2091923952102661 | Test loss: 0.3719504475593567\n",
            "OrderedDict([('weights', tensor([0.3722])), ('bias', tensor([0.2198]))])\n",
            "Epoch: 100 | loss: 0.19767141342163086 | Test loss: 0.35847947001457214\n",
            "OrderedDict([('weights', tensor([0.3761])), ('bias', tensor([0.2298]))])\n",
            "Epoch: 110 | loss: 0.18615040183067322 | Test loss: 0.34500852227211\n",
            "OrderedDict([('weights', tensor([0.3800])), ('bias', tensor([0.2398]))])\n",
            "Epoch: 120 | loss: 0.17462942004203796 | Test loss: 0.33153754472732544\n",
            "OrderedDict([('weights', tensor([0.3839])), ('bias', tensor([0.2498]))])\n",
            "Epoch: 130 | loss: 0.16310855746269226 | Test loss: 0.3180667459964752\n",
            "OrderedDict([('weights', tensor([0.3878])), ('bias', tensor([0.2598]))])\n",
            "Epoch: 140 | loss: 0.15158770978450775 | Test loss: 0.304595947265625\n",
            "OrderedDict([('weights', tensor([0.3917])), ('bias', tensor([0.2698]))])\n",
            "Epoch: 150 | loss: 0.14006686210632324 | Test loss: 0.2911251187324524\n",
            "OrderedDict([('weights', tensor([0.3956])), ('bias', tensor([0.2798]))])\n",
            "Epoch: 160 | loss: 0.12854602932929993 | Test loss: 0.2776543200016022\n",
            "OrderedDict([('weights', tensor([0.3995])), ('bias', tensor([0.2898]))])\n",
            "Epoch: 170 | loss: 0.11702518165111542 | Test loss: 0.26418352127075195\n",
            "OrderedDict([('weights', tensor([0.4034])), ('bias', tensor([0.2998]))])\n",
            "Epoch: 180 | loss: 0.10654274374246597 | Test loss: 0.251315176486969\n",
            "OrderedDict([('weights', tensor([0.4073])), ('bias', tensor([0.3092]))])\n",
            "Epoch: 190 | loss: 0.09747617691755295 | Test loss: 0.2392154484987259\n",
            "OrderedDict([('weights', tensor([0.4112])), ('bias', tensor([0.3179]))])\n",
            "Epoch: 200 | loss: 0.08973254263401031 | Test loss: 0.22795839607715607\n",
            "OrderedDict([('weights', tensor([0.4150])), ('bias', tensor([0.3257]))])\n",
            "Epoch: 210 | loss: 0.08306284993886948 | Test loss: 0.21740305423736572\n",
            "OrderedDict([('weights', tensor([0.4188])), ('bias', tensor([0.3329]))])\n",
            "Epoch: 220 | loss: 0.07729282230138779 | Test loss: 0.20750825107097626\n",
            "OrderedDict([('weights', tensor([0.4225])), ('bias', tensor([0.3395]))])\n",
            "Epoch: 230 | loss: 0.07242877781391144 | Test loss: 0.19840054214000702\n",
            "OrderedDict([('weights', tensor([0.4261])), ('bias', tensor([0.3454]))])\n",
            "Epoch: 240 | loss: 0.06828799843788147 | Test loss: 0.18992407619953156\n",
            "OrderedDict([('weights', tensor([0.4296])), ('bias', tensor([0.3508]))])\n",
            "Epoch: 250 | loss: 0.06476505100727081 | Test loss: 0.18208928406238556\n",
            "OrderedDict([('weights', tensor([0.4330])), ('bias', tensor([0.3556]))])\n",
            "Epoch: 260 | loss: 0.06174134090542793 | Test loss: 0.17478716373443604\n",
            "OrderedDict([('weights', tensor([0.4363])), ('bias', tensor([0.3599]))])\n",
            "Epoch: 270 | loss: 0.05915876477956772 | Test loss: 0.16802480816841125\n",
            "OrderedDict([('weights', tensor([0.4395])), ('bias', tensor([0.3638]))])\n",
            "Epoch: 280 | loss: 0.0569603331387043 | Test loss: 0.161748006939888\n",
            "OrderedDict([('weights', tensor([0.4426])), ('bias', tensor([0.3673]))])\n",
            "Epoch: 290 | loss: 0.05514555424451828 | Test loss: 0.15608695149421692\n",
            "OrderedDict([('weights', tensor([0.4456])), ('bias', tensor([0.3703]))])\n",
            "Epoch: 300 | loss: 0.05357731133699417 | Test loss: 0.15086300671100616\n",
            "OrderedDict([('weights', tensor([0.4485])), ('bias', tensor([0.3730]))])\n",
            "Epoch: 310 | loss: 0.05218071490526199 | Test loss: 0.14595307409763336\n",
            "OrderedDict([('weights', tensor([0.4513])), ('bias', tensor([0.3754]))])\n",
            "Epoch: 320 | loss: 0.05105169489979744 | Test loss: 0.1415499746799469\n",
            "OrderedDict([('weights', tensor([0.4540])), ('bias', tensor([0.3774]))])\n",
            "Epoch: 330 | loss: 0.050030313432216644 | Test loss: 0.1374681293964386\n",
            "OrderedDict([('weights', tensor([0.4567])), ('bias', tensor([0.3791]))])\n",
            "Epoch: 340 | loss: 0.049160152673721313 | Test loss: 0.13370750844478607\n",
            "OrderedDict([('weights', tensor([0.4592])), ('bias', tensor([0.3806]))])\n",
            "Epoch: 350 | loss: 0.04836020991206169 | Test loss: 0.13020753860473633\n",
            "OrderedDict([('weights', tensor([0.4617])), ('bias', tensor([0.3819]))])\n",
            "Epoch: 360 | loss: 0.04769856110215187 | Test loss: 0.12709848582744598\n",
            "OrderedDict([('weights', tensor([0.4640])), ('bias', tensor([0.3829]))])\n",
            "Epoch: 370 | loss: 0.04703690856695175 | Test loss: 0.12398938834667206\n",
            "OrderedDict([('weights', tensor([0.4664])), ('bias', tensor([0.3839]))])\n",
            "Epoch: 380 | loss: 0.04650093987584114 | Test loss: 0.12147434055805206\n",
            "OrderedDict([('weights', tensor([0.4686])), ('bias', tensor([0.3845]))])\n",
            "Epoch: 390 | loss: 0.045996345579624176 | Test loss: 0.11902527511119843\n",
            "OrderedDict([('weights', tensor([0.4708])), ('bias', tensor([0.3850]))])\n",
            "Epoch: 400 | loss: 0.04549176245927811 | Test loss: 0.11657620966434479\n",
            "OrderedDict([('weights', tensor([0.4730])), ('bias', tensor([0.3855]))])\n",
            "Epoch: 410 | loss: 0.045014552772045135 | Test loss: 0.11432783305644989\n",
            "OrderedDict([('weights', tensor([0.4751])), ('bias', tensor([0.3858]))])\n",
            "Epoch: 420 | loss: 0.04461454600095749 | Test loss: 0.11254779994487762\n",
            "OrderedDict([('weights', tensor([0.4771])), ('bias', tensor([0.3858]))])\n",
            "Epoch: 430 | loss: 0.04421453922986984 | Test loss: 0.11076776683330536\n",
            "OrderedDict([('weights', tensor([0.4791])), ('bias', tensor([0.3858]))])\n",
            "Epoch: 440 | loss: 0.043814532458782196 | Test loss: 0.1089877337217331\n",
            "OrderedDict([('weights', tensor([0.4811])), ('bias', tensor([0.3858]))])\n",
            "Epoch: 450 | loss: 0.04341452196240425 | Test loss: 0.10720770061016083\n",
            "OrderedDict([('weights', tensor([0.4831])), ('bias', tensor([0.3858]))])\n",
            "Epoch: 460 | loss: 0.043014515191316605 | Test loss: 0.10542766749858856\n",
            "OrderedDict([('weights', tensor([0.4851])), ('bias', tensor([0.3858]))])\n",
            "Epoch: 470 | loss: 0.04265119880437851 | Test loss: 0.10419009625911713\n",
            "OrderedDict([('weights', tensor([0.4870])), ('bias', tensor([0.3854]))])\n",
            "Epoch: 480 | loss: 0.04230218380689621 | Test loss: 0.1030881255865097\n",
            "OrderedDict([('weights', tensor([0.4888])), ('bias', tensor([0.3849]))])\n",
            "Epoch: 490 | loss: 0.04195316880941391 | Test loss: 0.10198615491390228\n",
            "OrderedDict([('weights', tensor([0.4906])), ('bias', tensor([0.3844]))])\n",
            "Epoch: 500 | loss: 0.04160415381193161 | Test loss: 0.10088418424129486\n",
            "OrderedDict([('weights', tensor([0.4924])), ('bias', tensor([0.3839]))])\n",
            "Epoch: 510 | loss: 0.04125513881444931 | Test loss: 0.09978221356868744\n",
            "OrderedDict([('weights', tensor([0.4942])), ('bias', tensor([0.3834]))])\n",
            "Epoch: 520 | loss: 0.04090612381696701 | Test loss: 0.09868024289608002\n",
            "OrderedDict([('weights', tensor([0.4960])), ('bias', tensor([0.3829]))])\n",
            "Epoch: 530 | loss: 0.04055710881948471 | Test loss: 0.0975782722234726\n",
            "OrderedDict([('weights', tensor([0.4978])), ('bias', tensor([0.3824]))])\n",
            "Epoch: 540 | loss: 0.04020809382200241 | Test loss: 0.09647630155086517\n",
            "OrderedDict([('weights', tensor([0.4996])), ('bias', tensor([0.3819]))])\n",
            "Epoch: 550 | loss: 0.03985908254981041 | Test loss: 0.09537436813116074\n",
            "OrderedDict([('weights', tensor([0.5014])), ('bias', tensor([0.3814]))])\n",
            "Epoch: 560 | loss: 0.03951007127761841 | Test loss: 0.09427239745855331\n",
            "OrderedDict([('weights', tensor([0.5032])), ('bias', tensor([0.3809]))])\n",
            "Epoch: 570 | loss: 0.03916105255484581 | Test loss: 0.09317042678594589\n",
            "OrderedDict([('weights', tensor([0.5050])), ('bias', tensor([0.3804]))])\n",
            "Epoch: 580 | loss: 0.03881204128265381 | Test loss: 0.09206845611333847\n",
            "OrderedDict([('weights', tensor([0.5068])), ('bias', tensor([0.3799]))])\n",
            "Epoch: 590 | loss: 0.03846302255988121 | Test loss: 0.09096648544073105\n",
            "OrderedDict([('weights', tensor([0.5086])), ('bias', tensor([0.3794]))])\n",
            "Epoch: 600 | loss: 0.03811401128768921 | Test loss: 0.08986451476812363\n",
            "OrderedDict([('weights', tensor([0.5104])), ('bias', tensor([0.3789]))])\n",
            "Epoch: 610 | loss: 0.03776499256491661 | Test loss: 0.0887625440955162\n",
            "OrderedDict([('weights', tensor([0.5122])), ('bias', tensor([0.3784]))])\n",
            "Epoch: 620 | loss: 0.03741598129272461 | Test loss: 0.08766057342290878\n",
            "OrderedDict([('weights', tensor([0.5140])), ('bias', tensor([0.3779]))])\n",
            "Epoch: 630 | loss: 0.037067197263240814 | Test loss: 0.08662726730108261\n",
            "OrderedDict([('weights', tensor([0.5157])), ('bias', tensor([0.3774]))])\n",
            "Epoch: 640 | loss: 0.03672432154417038 | Test loss: 0.08579986542463303\n",
            "OrderedDict([('weights', tensor([0.5175])), ('bias', tensor([0.3767]))])\n",
            "Epoch: 650 | loss: 0.03638043254613876 | Test loss: 0.08497253060340881\n",
            "OrderedDict([('weights', tensor([0.5192])), ('bias', tensor([0.3760]))])\n",
            "Epoch: 660 | loss: 0.036036938428878784 | Test loss: 0.08421380817890167\n",
            "OrderedDict([('weights', tensor([0.5209])), ('bias', tensor([0.3752]))])\n",
            "Epoch: 670 | loss: 0.035693906247615814 | Test loss: 0.08338643610477448\n",
            "OrderedDict([('weights', tensor([0.5226])), ('bias', tensor([0.3745]))])\n",
            "Epoch: 680 | loss: 0.035350002348423004 | Test loss: 0.08255907148122787\n",
            "OrderedDict([('weights', tensor([0.5243])), ('bias', tensor([0.3738]))])\n",
            "Epoch: 690 | loss: 0.035006679594516754 | Test loss: 0.08180035650730133\n",
            "OrderedDict([('weights', tensor([0.5260])), ('bias', tensor([0.3731]))])\n",
            "Epoch: 700 | loss: 0.03466346859931946 | Test loss: 0.08097299933433533\n",
            "OrderedDict([('weights', tensor([0.5277])), ('bias', tensor([0.3724]))])\n",
            "Epoch: 710 | loss: 0.03431956097483635 | Test loss: 0.08014564216136932\n",
            "OrderedDict([('weights', tensor([0.5294])), ('bias', tensor([0.3717]))])\n",
            "Epoch: 720 | loss: 0.03397642448544502 | Test loss: 0.07938691228628159\n",
            "OrderedDict([('weights', tensor([0.5311])), ('bias', tensor([0.3709]))])\n",
            "Epoch: 730 | loss: 0.0336330309510231 | Test loss: 0.07855955511331558\n",
            "OrderedDict([('weights', tensor([0.5328])), ('bias', tensor([0.3702]))])\n",
            "Epoch: 740 | loss: 0.03328912332653999 | Test loss: 0.07773219794034958\n",
            "OrderedDict([('weights', tensor([0.5346])), ('bias', tensor([0.3695]))])\n",
            "Epoch: 750 | loss: 0.032946161925792694 | Test loss: 0.07697348296642303\n",
            "OrderedDict([('weights', tensor([0.5363])), ('bias', tensor([0.3688]))])\n",
            "Epoch: 760 | loss: 0.03260258957743645 | Test loss: 0.07614611089229584\n",
            "OrderedDict([('weights', tensor([0.5380])), ('bias', tensor([0.3681]))])\n",
            "Epoch: 770 | loss: 0.0322587676346302 | Test loss: 0.07538740336894989\n",
            "OrderedDict([('weights', tensor([0.5397])), ('bias', tensor([0.3673]))])\n",
            "Epoch: 780 | loss: 0.031915903091430664 | Test loss: 0.07456003129482269\n",
            "OrderedDict([('weights', tensor([0.5414])), ('bias', tensor([0.3666]))])\n",
            "Epoch: 790 | loss: 0.031572166830301285 | Test loss: 0.07373266667127609\n",
            "OrderedDict([('weights', tensor([0.5431])), ('bias', tensor([0.3659]))])\n",
            "Epoch: 800 | loss: 0.03122851625084877 | Test loss: 0.07297395914793015\n",
            "OrderedDict([('weights', tensor([0.5448])), ('bias', tensor([0.3652]))])\n",
            "Epoch: 810 | loss: 0.03088562563061714 | Test loss: 0.07214658707380295\n",
            "OrderedDict([('weights', tensor([0.5465])), ('bias', tensor([0.3645]))])\n",
            "Epoch: 820 | loss: 0.03054172359406948 | Test loss: 0.07131922990083694\n",
            "OrderedDict([('weights', tensor([0.5482])), ('bias', tensor([0.3638]))])\n",
            "Epoch: 830 | loss: 0.030198251828551292 | Test loss: 0.0705605149269104\n",
            "OrderedDict([('weights', tensor([0.5499])), ('bias', tensor([0.3630]))])\n",
            "Epoch: 840 | loss: 0.029855191707611084 | Test loss: 0.0697331428527832\n",
            "OrderedDict([('weights', tensor([0.5516])), ('bias', tensor([0.3623]))])\n",
            "Epoch: 850 | loss: 0.029511287808418274 | Test loss: 0.0689057856798172\n",
            "OrderedDict([('weights', tensor([0.5534])), ('bias', tensor([0.3616]))])\n",
            "Epoch: 860 | loss: 0.02916799485683441 | Test loss: 0.06814707070589066\n",
            "OrderedDict([('weights', tensor([0.5551])), ('bias', tensor([0.3609]))])\n",
            "Epoch: 870 | loss: 0.028824755921959877 | Test loss: 0.06731969118118286\n",
            "OrderedDict([('weights', tensor([0.5568])), ('bias', tensor([0.3602]))])\n",
            "Epoch: 880 | loss: 0.02848084643483162 | Test loss: 0.06649234890937805\n",
            "OrderedDict([('weights', tensor([0.5585])), ('bias', tensor([0.3595]))])\n",
            "Epoch: 890 | loss: 0.02813773788511753 | Test loss: 0.06573362648487091\n",
            "OrderedDict([('weights', tensor([0.5602])), ('bias', tensor([0.3587]))])\n",
            "Epoch: 900 | loss: 0.027794325724244118 | Test loss: 0.06490625441074371\n",
            "OrderedDict([('weights', tensor([0.5619])), ('bias', tensor([0.3580]))])\n",
            "Epoch: 910 | loss: 0.02745041623711586 | Test loss: 0.06407888978719711\n",
            "OrderedDict([('weights', tensor([0.5636])), ('bias', tensor([0.3573]))])\n",
            "Epoch: 920 | loss: 0.0271074827760458 | Test loss: 0.06332017481327057\n",
            "OrderedDict([('weights', tensor([0.5653])), ('bias', tensor([0.3566]))])\n",
            "Epoch: 930 | loss: 0.026763886213302612 | Test loss: 0.062492817640304565\n",
            "OrderedDict([('weights', tensor([0.5670])), ('bias', tensor([0.3559]))])\n",
            "Epoch: 940 | loss: 0.02642008289694786 | Test loss: 0.06173409894108772\n",
            "OrderedDict([('weights', tensor([0.5687])), ('bias', tensor([0.3551]))])\n",
            "Epoch: 950 | loss: 0.02607722207903862 | Test loss: 0.06090673804283142\n",
            "OrderedDict([('weights', tensor([0.5704])), ('bias', tensor([0.3544]))])\n",
            "Epoch: 960 | loss: 0.025733450427651405 | Test loss: 0.06007937341928482\n",
            "OrderedDict([('weights', tensor([0.5721])), ('bias', tensor([0.3537]))])\n",
            "Epoch: 970 | loss: 0.02538982965052128 | Test loss: 0.05932066589593887\n",
            "OrderedDict([('weights', tensor([0.5738])), ('bias', tensor([0.3530]))])\n",
            "Epoch: 980 | loss: 0.02504691109061241 | Test loss: 0.058493297547101974\n",
            "OrderedDict([('weights', tensor([0.5756])), ('bias', tensor([0.3523]))])\n",
            "Epoch: 990 | loss: 0.0247030109167099 | Test loss: 0.057665932923555374\n",
            "OrderedDict([('weights', tensor([0.5773])), ('bias', tensor([0.3516]))])\n",
            "Epoch: 1000 | loss: 0.02435956709086895 | Test loss: 0.05690721794962883\n",
            "OrderedDict([('weights', tensor([0.5790])), ('bias', tensor([0.3508]))])\n",
            "Epoch: 1010 | loss: 0.024016480892896652 | Test loss: 0.05607985332608223\n",
            "OrderedDict([('weights', tensor([0.5807])), ('bias', tensor([0.3501]))])\n",
            "Epoch: 1020 | loss: 0.02367258258163929 | Test loss: 0.055252473801374435\n",
            "OrderedDict([('weights', tensor([0.5824])), ('bias', tensor([0.3494]))])\n",
            "Epoch: 1030 | loss: 0.023329313844442368 | Test loss: 0.054493773728609085\n",
            "OrderedDict([('weights', tensor([0.5841])), ('bias', tensor([0.3487]))])\n",
            "Epoch: 1040 | loss: 0.022986043244600296 | Test loss: 0.05366641283035278\n",
            "OrderedDict([('weights', tensor([0.5858])), ('bias', tensor([0.3480]))])\n",
            "Epoch: 1050 | loss: 0.022642139345407486 | Test loss: 0.05283904820680618\n",
            "OrderedDict([('weights', tensor([0.5875])), ('bias', tensor([0.3473]))])\n",
            "Epoch: 1060 | loss: 0.02229905314743519 | Test loss: 0.05208033323287964\n",
            "OrderedDict([('weights', tensor([0.5892])), ('bias', tensor([0.3465]))])\n",
            "Epoch: 1070 | loss: 0.02195560745894909 | Test loss: 0.05125296115875244\n",
            "OrderedDict([('weights', tensor([0.5909])), ('bias', tensor([0.3458]))])\n",
            "Epoch: 1080 | loss: 0.021611705422401428 | Test loss: 0.05042559653520584\n",
            "OrderedDict([('weights', tensor([0.5927])), ('bias', tensor([0.3451]))])\n",
            "Epoch: 1090 | loss: 0.021268798038363457 | Test loss: 0.0496668815612793\n",
            "OrderedDict([('weights', tensor([0.5944])), ('bias', tensor([0.3444]))])\n",
            "Epoch: 1100 | loss: 0.02092517353594303 | Test loss: 0.0488395169377327\n",
            "OrderedDict([('weights', tensor([0.5961])), ('bias', tensor([0.3437]))])\n",
            "Epoch: 1110 | loss: 0.020581401884555817 | Test loss: 0.04808080196380615\n",
            "OrderedDict([('weights', tensor([0.5978])), ('bias', tensor([0.3429]))])\n",
            "Epoch: 1120 | loss: 0.020238537341356277 | Test loss: 0.047253452241420746\n",
            "OrderedDict([('weights', tensor([0.5995])), ('bias', tensor([0.3422]))])\n",
            "Epoch: 1130 | loss: 0.019894743338227272 | Test loss: 0.04642607644200325\n",
            "OrderedDict([('weights', tensor([0.6012])), ('bias', tensor([0.3415]))])\n",
            "Epoch: 1140 | loss: 0.019551146775484085 | Test loss: 0.0456673689186573\n",
            "OrderedDict([('weights', tensor([0.6029])), ('bias', tensor([0.3408]))])\n",
            "Epoch: 1150 | loss: 0.019208211451768875 | Test loss: 0.04483998939394951\n",
            "OrderedDict([('weights', tensor([0.6046])), ('bias', tensor([0.3401]))])\n",
            "Epoch: 1160 | loss: 0.018864300101995468 | Test loss: 0.044012635946273804\n",
            "OrderedDict([('weights', tensor([0.6063])), ('bias', tensor([0.3394]))])\n",
            "Epoch: 1170 | loss: 0.018520886078476906 | Test loss: 0.04325391724705696\n",
            "OrderedDict([('weights', tensor([0.6080])), ('bias', tensor([0.3386]))])\n",
            "Epoch: 1180 | loss: 0.01817776821553707 | Test loss: 0.04242655634880066\n",
            "OrderedDict([('weights', tensor([0.6097])), ('bias', tensor([0.3379]))])\n",
            "Epoch: 1190 | loss: 0.01783386431634426 | Test loss: 0.04159919545054436\n",
            "OrderedDict([('weights', tensor([0.6115])), ('bias', tensor([0.3372]))])\n",
            "Epoch: 1200 | loss: 0.017490629106760025 | Test loss: 0.04084048420190811\n",
            "OrderedDict([('weights', tensor([0.6131])), ('bias', tensor([0.3365]))])\n",
            "Epoch: 1210 | loss: 0.017147328704595566 | Test loss: 0.040013112127780914\n",
            "OrderedDict([('weights', tensor([0.6149])), ('bias', tensor([0.3358]))])\n",
            "Epoch: 1220 | loss: 0.016803432255983353 | Test loss: 0.03918575122952461\n",
            "OrderedDict([('weights', tensor([0.6166])), ('bias', tensor([0.3351]))])\n",
            "Epoch: 1230 | loss: 0.016460370272397995 | Test loss: 0.03842703625559807\n",
            "OrderedDict([('weights', tensor([0.6183])), ('bias', tensor([0.3343]))])\n",
            "Epoch: 1240 | loss: 0.016116898506879807 | Test loss: 0.03759966418147087\n",
            "OrderedDict([('weights', tensor([0.6200])), ('bias', tensor([0.3336]))])\n",
            "Epoch: 1250 | loss: 0.015772998332977295 | Test loss: 0.036772288382053375\n",
            "OrderedDict([('weights', tensor([0.6217])), ('bias', tensor([0.3329]))])\n",
            "Epoch: 1260 | loss: 0.01543011236935854 | Test loss: 0.03601359575986862\n",
            "OrderedDict([('weights', tensor([0.6234])), ('bias', tensor([0.3322]))])\n",
            "Epoch: 1270 | loss: 0.015086461789906025 | Test loss: 0.03518623113632202\n",
            "OrderedDict([('weights', tensor([0.6251])), ('bias', tensor([0.3315]))])\n",
            "Epoch: 1280 | loss: 0.014742719009518623 | Test loss: 0.03442750498652458\n",
            "OrderedDict([('weights', tensor([0.6268])), ('bias', tensor([0.3307]))])\n",
            "Epoch: 1290 | loss: 0.014399850741028786 | Test loss: 0.03360014408826828\n",
            "OrderedDict([('weights', tensor([0.6285])), ('bias', tensor([0.3300]))])\n",
            "Epoch: 1300 | loss: 0.014056024141609669 | Test loss: 0.03277278691530228\n",
            "OrderedDict([('weights', tensor([0.6302])), ('bias', tensor([0.3293]))])\n",
            "Epoch: 1310 | loss: 0.013712462969124317 | Test loss: 0.03201407939195633\n",
            "OrderedDict([('weights', tensor([0.6319])), ('bias', tensor([0.3286]))])\n",
            "Epoch: 1320 | loss: 0.013369491323828697 | Test loss: 0.031186699867248535\n",
            "OrderedDict([('weights', tensor([0.6337])), ('bias', tensor([0.3279]))])\n",
            "Epoch: 1330 | loss: 0.01302559394389391 | Test loss: 0.030359338968992233\n",
            "OrderedDict([('weights', tensor([0.6354])), ('bias', tensor([0.3272]))])\n",
            "Epoch: 1340 | loss: 0.012682202272117138 | Test loss: 0.029600614681839943\n",
            "OrderedDict([('weights', tensor([0.6371])), ('bias', tensor([0.3264]))])\n",
            "Epoch: 1350 | loss: 0.012339059263467789 | Test loss: 0.028773266822099686\n",
            "OrderedDict([('weights', tensor([0.6388])), ('bias', tensor([0.3257]))])\n",
            "Epoch: 1360 | loss: 0.011995160952210426 | Test loss: 0.02794589474797249\n",
            "OrderedDict([('weights', tensor([0.6405])), ('bias', tensor([0.3250]))])\n",
            "Epoch: 1370 | loss: 0.011651946231722832 | Test loss: 0.02718718722462654\n",
            "OrderedDict([('weights', tensor([0.6422])), ('bias', tensor([0.3243]))])\n",
            "Epoch: 1380 | loss: 0.011308628134429455 | Test loss: 0.026359815150499344\n",
            "OrderedDict([('weights', tensor([0.6439])), ('bias', tensor([0.3236]))])\n",
            "Epoch: 1390 | loss: 0.010964717715978622 | Test loss: 0.025532448664307594\n",
            "OrderedDict([('weights', tensor([0.6456])), ('bias', tensor([0.3229]))])\n",
            "Epoch: 1400 | loss: 0.010621682740747929 | Test loss: 0.0247737355530262\n",
            "OrderedDict([('weights', tensor([0.6473])), ('bias', tensor([0.3221]))])\n",
            "Epoch: 1410 | loss: 0.010278185829520226 | Test loss: 0.023946374654769897\n",
            "OrderedDict([('weights', tensor([0.6490])), ('bias', tensor([0.3214]))])\n",
            "Epoch: 1420 | loss: 0.009934291243553162 | Test loss: 0.023187648504972458\n",
            "OrderedDict([('weights', tensor([0.6507])), ('bias', tensor([0.3207]))])\n",
            "Epoch: 1430 | loss: 0.009591431356966496 | Test loss: 0.0223603006452322\n",
            "OrderedDict([('weights', tensor([0.6525])), ('bias', tensor([0.3200]))])\n",
            "Epoch: 1440 | loss: 0.00924774818122387 | Test loss: 0.021532922983169556\n",
            "OrderedDict([('weights', tensor([0.6542])), ('bias', tensor([0.3193]))])\n",
            "Epoch: 1450 | loss: 0.008904037065804005 | Test loss: 0.020774226635694504\n",
            "OrderedDict([('weights', tensor([0.6559])), ('bias', tensor([0.3185]))])\n",
            "Epoch: 1460 | loss: 0.008561169728636742 | Test loss: 0.019946854561567307\n",
            "OrderedDict([('weights', tensor([0.6576])), ('bias', tensor([0.3178]))])\n",
            "Epoch: 1470 | loss: 0.008217317052185535 | Test loss: 0.01911948248744011\n",
            "OrderedDict([('weights', tensor([0.6593])), ('bias', tensor([0.3171]))])\n",
            "Epoch: 1480 | loss: 0.007873778231441975 | Test loss: 0.018360769376158714\n",
            "OrderedDict([('weights', tensor([0.6610])), ('bias', tensor([0.3164]))])\n",
            "Epoch: 1490 | loss: 0.0075307851657271385 | Test loss: 0.01753341034054756\n",
            "OrderedDict([('weights', tensor([0.6627])), ('bias', tensor([0.3157]))])\n",
            "Epoch: 1500 | loss: 0.007186878472566605 | Test loss: 0.01670604944229126\n",
            "OrderedDict([('weights', tensor([0.6644])), ('bias', tensor([0.3150]))])\n",
            "Epoch: 1510 | loss: 0.006843519397079945 | Test loss: 0.01594732329249382\n",
            "OrderedDict([('weights', tensor([0.6661])), ('bias', tensor([0.3142]))])\n",
            "Epoch: 1520 | loss: 0.006500349845737219 | Test loss: 0.015119964256882668\n",
            "OrderedDict([('weights', tensor([0.6678])), ('bias', tensor([0.3135]))])\n",
            "Epoch: 1530 | loss: 0.006156443618237972 | Test loss: 0.014292603358626366\n",
            "OrderedDict([('weights', tensor([0.6695])), ('bias', tensor([0.3128]))])\n",
            "Epoch: 1540 | loss: 0.005813261028379202 | Test loss: 0.013533895835280418\n",
            "OrderedDict([('weights', tensor([0.6712])), ('bias', tensor([0.3121]))])\n",
            "Epoch: 1550 | loss: 0.005469909869134426 | Test loss: 0.012706518173217773\n",
            "OrderedDict([('weights', tensor([0.6730])), ('bias', tensor([0.3114]))])\n",
            "Epoch: 1560 | loss: 0.0051260096952319145 | Test loss: 0.011879158206284046\n",
            "OrderedDict([('weights', tensor([0.6747])), ('bias', tensor([0.3107]))])\n",
            "Epoch: 1570 | loss: 0.004782737232744694 | Test loss: 0.011086148209869862\n",
            "OrderedDict([('weights', tensor([0.6764])), ('bias', tensor([0.3099]))])\n",
            "Epoch: 1580 | loss: 0.004439301788806915 | Test loss: 0.010327416472136974\n",
            "OrderedDict([('weights', tensor([0.6781])), ('bias', tensor([0.3092]))])\n",
            "Epoch: 1590 | loss: 0.004096207674592733 | Test loss: 0.0095000509172678\n",
            "OrderedDict([('weights', tensor([0.6798])), ('bias', tensor([0.3085]))])\n",
            "Epoch: 1600 | loss: 0.003752306802198291 | Test loss: 0.008672690019011497\n",
            "OrderedDict([('weights', tensor([0.6815])), ('bias', tensor([0.3078]))])\n",
            "Epoch: 1610 | loss: 0.0034090480767190456 | Test loss: 0.007913952693343163\n",
            "OrderedDict([('weights', tensor([0.6832])), ('bias', tensor([0.3070]))])\n",
            "Epoch: 1620 | loss: 0.0030657730530947447 | Test loss: 0.007086604833602905\n",
            "OrderedDict([('weights', tensor([0.6849])), ('bias', tensor([0.3063]))])\n",
            "Epoch: 1630 | loss: 0.0027218691539019346 | Test loss: 0.006259244866669178\n",
            "OrderedDict([('weights', tensor([0.6866])), ('bias', tensor([0.3056]))])\n",
            "Epoch: 1640 | loss: 0.0023787864483892918 | Test loss: 0.005500525236129761\n",
            "OrderedDict([('weights', tensor([0.6883])), ('bias', tensor([0.3049]))])\n",
            "Epoch: 1650 | loss: 0.002035337733104825 | Test loss: 0.004673170857131481\n",
            "OrderedDict([('weights', tensor([0.6900])), ('bias', tensor([0.3042]))])\n",
            "Epoch: 1660 | loss: 0.0016914367442950606 | Test loss: 0.0038457990158349276\n",
            "OrderedDict([('weights', tensor([0.6918])), ('bias', tensor([0.3035]))])\n",
            "Epoch: 1670 | loss: 0.0013485297095030546 | Test loss: 0.0030870854388922453\n",
            "OrderedDict([('weights', tensor([0.6935])), ('bias', tensor([0.3027]))])\n",
            "Epoch: 1680 | loss: 0.0010049014817923307 | Test loss: 0.002259713364765048\n",
            "OrderedDict([('weights', tensor([0.6952])), ('bias', tensor([0.3020]))])\n",
            "Epoch: 1690 | loss: 0.0006616368773393333 | Test loss: 0.0014667033683508635\n",
            "OrderedDict([('weights', tensor([0.6969])), ('bias', tensor([0.3013]))])\n",
            "Epoch: 1700 | loss: 0.0003177322505507618 | Test loss: 0.0006393313524313271\n",
            "OrderedDict([('weights', tensor([0.6986])), ('bias', tensor([0.3006]))])\n",
            "Epoch: 1710 | loss: 0.0004444979131221771 | Test loss: 0.0005780101055279374\n",
            "OrderedDict([('weights', tensor([0.6997])), ('bias', tensor([0.3008]))])\n",
            "Epoch: 1720 | loss: 0.0004444979131221771 | Test loss: 0.0005780101055279374\n",
            "OrderedDict([('weights', tensor([0.6997])), ('bias', tensor([0.3008]))])\n",
            "Epoch: 1730 | loss: 0.0004444979131221771 | Test loss: 0.0005780101055279374\n",
            "OrderedDict([('weights', tensor([0.6997])), ('bias', tensor([0.3008]))])\n",
            "Epoch: 1740 | loss: 0.0004444979131221771 | Test loss: 0.0005780101055279374\n",
            "OrderedDict([('weights', tensor([0.6997])), ('bias', tensor([0.3008]))])\n",
            "Epoch: 1750 | loss: 0.0004444979131221771 | Test loss: 0.0005780101055279374\n",
            "OrderedDict([('weights', tensor([0.6997])), ('bias', tensor([0.3008]))])\n",
            "Epoch: 1760 | loss: 0.0004444979131221771 | Test loss: 0.0005780101055279374\n",
            "OrderedDict([('weights', tensor([0.6997])), ('bias', tensor([0.3008]))])\n",
            "Epoch: 1770 | loss: 0.0004444979131221771 | Test loss: 0.0005780101055279374\n",
            "OrderedDict([('weights', tensor([0.6997])), ('bias', tensor([0.3008]))])\n",
            "Epoch: 1780 | loss: 0.0004444979131221771 | Test loss: 0.0005780101055279374\n",
            "OrderedDict([('weights', tensor([0.6997])), ('bias', tensor([0.3008]))])\n",
            "Epoch: 1790 | loss: 0.0004444979131221771 | Test loss: 0.0005780101055279374\n",
            "OrderedDict([('weights', tensor([0.6997])), ('bias', tensor([0.3008]))])\n",
            "Epoch: 1800 | loss: 0.0004444979131221771 | Test loss: 0.0005780101055279374\n",
            "OrderedDict([('weights', tensor([0.6997])), ('bias', tensor([0.3008]))])\n",
            "Epoch: 1810 | loss: 0.0004444979131221771 | Test loss: 0.0005780101055279374\n",
            "OrderedDict([('weights', tensor([0.6997])), ('bias', tensor([0.3008]))])\n",
            "Epoch: 1820 | loss: 0.0004444979131221771 | Test loss: 0.0005780101055279374\n",
            "OrderedDict([('weights', tensor([0.6997])), ('bias', tensor([0.3008]))])\n",
            "Epoch: 1830 | loss: 0.0004444979131221771 | Test loss: 0.0005780101055279374\n",
            "OrderedDict([('weights', tensor([0.6997])), ('bias', tensor([0.3008]))])\n",
            "Epoch: 1840 | loss: 0.0004444979131221771 | Test loss: 0.0005780101055279374\n",
            "OrderedDict([('weights', tensor([0.6997])), ('bias', tensor([0.3008]))])\n",
            "Epoch: 1850 | loss: 0.0004444979131221771 | Test loss: 0.0005780101055279374\n",
            "OrderedDict([('weights', tensor([0.6997])), ('bias', tensor([0.3008]))])\n",
            "Epoch: 1860 | loss: 0.0004444979131221771 | Test loss: 0.0005780101055279374\n",
            "OrderedDict([('weights', tensor([0.6997])), ('bias', tensor([0.3008]))])\n",
            "Epoch: 1870 | loss: 0.0004444979131221771 | Test loss: 0.0005780101055279374\n",
            "OrderedDict([('weights', tensor([0.6997])), ('bias', tensor([0.3008]))])\n",
            "Epoch: 1880 | loss: 0.0004444979131221771 | Test loss: 0.0005780101055279374\n",
            "OrderedDict([('weights', tensor([0.6997])), ('bias', tensor([0.3008]))])\n",
            "Epoch: 1890 | loss: 0.0004444979131221771 | Test loss: 0.0005780101055279374\n",
            "OrderedDict([('weights', tensor([0.6997])), ('bias', tensor([0.3008]))])\n",
            "Epoch: 1900 | loss: 0.0004444979131221771 | Test loss: 0.0005780101055279374\n",
            "OrderedDict([('weights', tensor([0.6997])), ('bias', tensor([0.3008]))])\n",
            "Epoch: 1910 | loss: 0.0004444979131221771 | Test loss: 0.0005780101055279374\n",
            "OrderedDict([('weights', tensor([0.6997])), ('bias', tensor([0.3008]))])\n",
            "Epoch: 1920 | loss: 0.0004444979131221771 | Test loss: 0.0005780101055279374\n",
            "OrderedDict([('weights', tensor([0.6997])), ('bias', tensor([0.3008]))])\n",
            "Epoch: 1930 | loss: 0.0004444979131221771 | Test loss: 0.0005780101055279374\n",
            "OrderedDict([('weights', tensor([0.6997])), ('bias', tensor([0.3008]))])\n",
            "Epoch: 1940 | loss: 0.0004444979131221771 | Test loss: 0.0005780101055279374\n",
            "OrderedDict([('weights', tensor([0.6997])), ('bias', tensor([0.3008]))])\n",
            "Epoch: 1950 | loss: 0.0004444979131221771 | Test loss: 0.0005780101055279374\n",
            "OrderedDict([('weights', tensor([0.6997])), ('bias', tensor([0.3008]))])\n",
            "Epoch: 1960 | loss: 0.0004444979131221771 | Test loss: 0.0005780101055279374\n",
            "OrderedDict([('weights', tensor([0.6997])), ('bias', tensor([0.3008]))])\n",
            "Epoch: 1970 | loss: 0.0004444979131221771 | Test loss: 0.0005780101055279374\n",
            "OrderedDict([('weights', tensor([0.6997])), ('bias', tensor([0.3008]))])\n",
            "Epoch: 1980 | loss: 0.0004444979131221771 | Test loss: 0.0005780101055279374\n",
            "OrderedDict([('weights', tensor([0.6997])), ('bias', tensor([0.3008]))])\n",
            "Epoch: 1990 | loss: 0.0004444979131221771 | Test loss: 0.0005780101055279374\n",
            "OrderedDict([('weights', tensor([0.6997])), ('bias', tensor([0.3008]))])\n"
          ]
        }
      ]
    },
    {
      "cell_type": "code",
      "source": [
        "model_0.state_dict()"
      ],
      "metadata": {
        "colab": {
          "base_uri": "https://localhost:8080/"
        },
        "id": "ejUIQpEVRGNS",
        "outputId": "6d8d7a4a-ddd9-4385-f885-959bada75455"
      },
      "execution_count": 104,
      "outputs": [
        {
          "output_type": "execute_result",
          "data": {
            "text/plain": [
              "OrderedDict([('weights', tensor([0.6994])), ('bias', tensor([0.2998]))])"
            ]
          },
          "metadata": {},
          "execution_count": 104
        }
      ]
    },
    {
      "cell_type": "code",
      "source": [
        "import numpy as np\n",
        "\n",
        "# Let's visualize loss\n",
        "plt.plot(epochs_counts, np.array(torch.tensor(loss_values).numpy()), label=\"Train loss\")\n",
        "plt.plot(epochs_counts, np.array(torch.tensor(test_loss_values).numpy()), label=\"Test loss\")\n",
        "plt.title(\"Training and test loss curves\")\n",
        "plt.ylabel(\"Loss\")\n",
        "plt.xlabel(\"Epochs\")\n",
        "plt.legend();"
      ],
      "metadata": {
        "colab": {
          "base_uri": "https://localhost:8080/",
          "height": 472
        },
        "id": "FMlPwaYvcmHz",
        "outputId": "0e0d9250-03d7-4e70-a606-266c5f666284"
      },
      "execution_count": 105,
      "outputs": [
        {
          "output_type": "display_data",
          "data": {
            "text/plain": [
              "<Figure size 640x480 with 1 Axes>"
            ],
            "image/png": "[encoded data removed]"
          },
          "metadata": {}
        }
      ]
    },
    {
      "cell_type": "code",
      "source": [
        "with torch.inference_mode():\n",
        "  Y_preds_new = model_0(X_test)"
      ],
      "metadata": {
        "id": "N6NRcUusTlSJ"
      },
      "execution_count": 106,
      "outputs": []
    },
    {
      "cell_type": "code",
      "source": [
        "plot_predictions(predictions=Y_preds_new)"
      ],
      "metadata": {
        "colab": {
          "base_uri": "https://localhost:8080/",
          "height": 599
        },
        "id": "zDXIo5D9UBpp",
        "outputId": "629bfadd-77e7-4779-8110-37840df3b679"
      },
      "execution_count": 107,
      "outputs": [
        {
          "output_type": "display_data",
          "data": {
            "text/plain": [
              "<Figure size 1000x700 with 1 Axes>"
            ],
            "image/png": "[encoded data removed]"
          },
          "metadata": {}
        }
      ]
    }
  ]
}